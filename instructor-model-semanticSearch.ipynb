{
 "cells": [
  {
   "cell_type": "markdown",
   "id": "4d1ed707-b534-4fd7-b809-fadeefce6b71",
   "metadata": {},
   "source": [
    "# Semantic Search/Text retrival\n",
    "For this implementation of our semantic search will use the [Instructor embedding](https://instructor-embedding.github.io/) \n",
    "\n",
    "## Install dependencies and import model"
   ]
  },
  {
   "cell_type": "code",
   "execution_count": null,
   "id": "4d8c1536-5a21-4ba4-954b-e85ab8edf47a",
   "metadata": {},
   "outputs": [],
   "source": [
    "!git clone https://github.com/HKUNLP/instructor-embedding"
   ]
  },
  {
   "cell_type": "code",
   "execution_count": null,
   "id": "55e5dd70-e1e9-4705-8a22-c6bebd312864",
   "metadata": {},
   "outputs": [],
   "source": [
    "!pip install -r instructor-embedding/requirements.txt\n",
    "!pip install InstructorEmbedding"
   ]
  },
  {
   "cell_type": "code",
   "execution_count": 4,
   "id": "5b0ae914-cbb9-41d5-994a-ee8e411d3948",
   "metadata": {},
   "outputs": [
    {
     "name": "stderr",
     "output_type": "stream",
     "text": [
      "/Users/saurabhkishore/opt/anaconda3/lib/python3.8/site-packages/InstructorEmbedding/instructor.py:7: TqdmExperimentalWarning: Using `tqdm.autonotebook.tqdm` in notebook mode. Use `tqdm.tqdm` instead to force console mode (e.g. in jupyter console)\n",
      "  from tqdm.autonotebook import trange\n"
     ]
    },
    {
     "name": "stdout",
     "output_type": "stream",
     "text": [
      "load INSTRUCTOR_Transformer\n",
      "max_seq_length  512\n"
     ]
    }
   ],
   "source": [
    "from InstructorEmbedding import INSTRUCTOR\n",
    "model = INSTRUCTOR('hkunlp/instructor-xl')"
   ]
  },
  {
   "cell_type": "markdown",
   "id": "b94d3502-3d75-46d5-9419-04dc3ca50c9f",
   "metadata": {},
   "source": [
    "# Import our Corpus and calculate embedings"
   ]
  },
  {
   "cell_type": "code",
   "execution_count": 5,
   "id": "6433eefa-970b-443f-9339-2744a0d61d41",
   "metadata": {},
   "outputs": [],
   "source": [
    "import pandas as pd\n",
    "import numpy as np \n",
    "import sklearn"
   ]
  },
  {
   "cell_type": "code",
   "execution_count": 8,
   "id": "05d9fcc2-309f-4129-a9f1-5e7311b6c27c",
   "metadata": {},
   "outputs": [],
   "source": [
    "corpus_embeddings = model.encode(corpus)"
   ]
  },
  {
   "cell_type": "code",
   "execution_count": 6,
   "id": "63406d0a-ef0f-4e7e-84f4-e8a2860ee632",
   "metadata": {},
   "outputs": [],
   "source": [
    "# corpus_embeddings = model.encode(corpus)\n",
    "# query = \"machine learning\"\n",
    "# query_embedding = model.encode(query)\n",
    "corpus = [\n",
    "['Represent the Wikipedia document for retrieval: ','Partial Differential Equations.  Nonlinear Analysis and Optimal Mass Transportation.'], \n",
    "['Represent the Wikipedia document for retrieval: ','Internet Measurements.  Computer Systems and Network Security.  SSL/TLS.  Secure DNS.  Authentication.  Secure BGP.  Secure Internet Geolocation.  Software Defined-Network Security.'], \n",
    "['Represent the Wikipedia document for retrieval: ','Non-invasive sensor systems.  Biomedical signal processing.  Biomedical image processing.  Machine learning,Pattern classification,Accessibility'], \n",
    "['Represent the Wikipedia document for retrieval: ',' '], \n",
    "['Represent the Wikipedia document for retrieval: ','Question answering over knowledge graphs.  information integration in linked data.  open data integration.  incorporating non-expert users in data integration.  knowledge graph mining.  and fact checking using heterogeneous data.'], \n",
    "['Represent the Wikipedia document for retrieval: ','Computational Social Choice.  Voting Theory.  Social Network Simulations.  Algorithmic Fairness.  Fair Allocation'], \n",
    "['Represent the Wikipedia document for retrieval: ','Algorithms.  Algorithmic Game Theory.  Network and Graph Theory.'], \n",
    "['Represent the Wikipedia document for retrieval: ','Algorithms.  Computational Geometry.  Visualization.'], \n",
    "['Represent the Wikipedia document for retrieval: ','Digital and Wireless Communications.  Coding and Information Theory.  Signal Processing and Algorithms'], \n",
    "['Represent the Wikipedia document for retrieval: ',' '], \n",
    "['Represent the Wikipedia document for retrieval: ','Medical Image Processing.  Applications for Monitoring lung and heart activity.  Image reconstruction models to account for errors.  Applications for Monitoring lung and heart activity.  Image reconstruction models to account for errors.  Monitoring lung function in mice.  Modelling of Airways physiology.  Monitoring lung function in mice.  Modelling of Airways physiology.  Face Recognition systems.  Issues in Biometric Application Design and Integration.  Security Implications of biometrics.  Face Recognition systems.  Issues in Biometric Application Design and Integration.  Security Implications of biometrics.  Applications for Monitoring lung and heart activity.  Image reconstruction models to account for errors.  Monitoring lung function in mice.  Modelling of Airways physiology.  Face Recognition systems.  Issues in Biometric Application Design and Integration.  Security Implications of biometrics'], \n",
    "['Represent the Wikipedia document for retrieval: ','Celestial Mechanics.  Spectral Theory of Differential Operators.  Fuzzy Cellular Automata.  Irrationality Questions in Number Theory.'], \n",
    "['Represent the Wikipedia document for retrieval: ','Design.  Analysis and Implementation of Algorithms for Problems arising in Computational Geometry.  Graph Theory.  Discrete Mathematics.  and Data Science.'], \n",
    "['Represent the Wikipedia document for retrieval: ','Computer Security.  Operating Systems.  Intrusion Detection.  Complex Adaptive Systems.  Artificial Life'], \n",
    "['Represent the Wikipedia document for retrieval: ','Number Theory and Analysis.'], \n",
    "['Represent the Wikipedia document for retrieval: ','Agent-based systems. Network computing. Applications of artificial intelligence. Object-oriented design and languages. Network management and supervision.'], \n",
    "['Represent the Wikipedia document for retrieval: ','Probability Theory and Mathematical Statistics, Strong and Weak Approximations of Stochastic Processes, Weighted Metrics, LimitTheorems,  Change-point Analysis, Nonparametric Methods.'], \n",
    "['Represent the Wikipedia document for retrieval: ',' '], \n",
    "['Represent the Wikipedia document for retrieval: ','Design Theory.  Gray Codes.  De Bruijn Sequences and Universal Cycles.  Combinatorial Game Theory.  Graph Theory.  Mathematical Biology.  Philosophy of Mathematics.'], \n",
    "['Represent the Wikipedia document for retrieval: ',' '], \n",
    "['Represent the Wikipedia document for retrieval: ','Stochastic Control in Computer Networks.  Modelling and Simulation Techniques.  Resource Optimization in Wireless Networks.  Reliability Mechanisms for Optical Networks.  Network Protocol Design and Implementation Issues'], \n",
    "['Represent the Wikipedia document for retrieval: ',' '], \n",
    "['Represent the Wikipedia document for retrieval: ',':'], \n",
    "['Represent the Wikipedia document for retrieval: ','After working in the high tech industry for nearly 10 years as a software developer and team leader.  Dr. Laurendeau returned to academia in 2005 to pursue a doctorate in Computer Science at Carleton University. She completed her Ph.D. in 2009.  and in the same year joined the School of Computer Science as a tenure-track Instructor (teaching professor). She served as Associate Director (Undergraduate) from 2011 to 2014.  then as the School’s Co-op Faculty Advisor from 2014 to 2018.  She is currently the Associate Director (Recruitment and Outreach) for the School of Computer Science.  Dr. Laurendeau specializes in teaching first and second year computer programming courses.  with a focus on software engineering.'], \n",
    "['Represent the Wikipedia document for retrieval: ','Software Engineering: Software Architecture.  Service-Oriented Computing.  Generative Programming.  Self-Managing Systems.  Software Reengineering. Networks: Software Defined Networking (SDN).  Traffic Engineering.  Quality of Service.  Content-Based Routing.  Wireless Communications.  Ad-Hoc Networks.  Sensor Networks.  and Network-Based Control Systems. Cloud Computing and Distributed Computing: Internet of Things (IoT).  Big Data Analytics.  Resource Management.  Web Services.  Real-time Concurrent Software.'], \n",
    "['Represent the Wikipedia document for retrieval: ','Noncommutative Algebra.  Algebraic Geometry'], \n",
    "['Represent the Wikipedia document for retrieval: ',' '], \n",
    "['Represent the Wikipedia document for retrieval: ','Organizational Resilience.  Discrete-Event Modeling and Simulation.  Agent-Based Modeling.  Network Theory'], \n",
    "['Represent the Wikipedia document for retrieval: ','Finite Fields and Their Applications; Combinatorics; Analysis of Algorithms.'], \n",
    "['Represent the Wikipedia document for retrieval: ',' '], \n",
    "['Represent the Wikipedia document for retrieval: ','Nonlinear Partial Differential Equations.  Wave Phenomena.  Pattern Formation.  Fluid Mechanics.  Nonlinear Optics.  Mathematical Biology.  Mathematical Modelling.  Numerical Analysis.'], \n",
    "['Represent the Wikipedia document for retrieval: ',' '], \n",
    "['Represent the Wikipedia document for retrieval: ',' '], \n",
    "['Represent the Wikipedia document for retrieval: ','Computer and Network Security.  Internet of Things Security.  Operating Systems Security.'], \n",
    "['Represent the Wikipedia document for retrieval: ','Non-Photorealistic Rendering.  Image Stylization.  Texture Synthesis.  Procedural Modeling.  Nonlinear Storytelling'], \n",
    "['Represent the Wikipedia document for retrieval: ',' '], \n",
    "['Represent the Wikipedia document for retrieval: ','Algorithms.  Computational Geometry.  Computer Graphics.  Computer Vision.  Data Structures.  Distributed Computing.  GIS.  Geographic Information Systems.  Medical Computing.  Parallel Computing.  Parallel and Distributed Computing.  Robotics and Machine Vision.  and Robotics'], \n",
    "['Represent the Wikipedia document for retrieval: ','Automated Reasoning.  Formal Methods in Software Engineering.  Programming Languages.  and Software Engineering'], \n",
    "['Represent the Wikipedia document for retrieval: ','Human-Computer Interaction.  Game Design.  Development.  & Interactions.  Wearables.  Virtual & Augmented Reality.  Animation.  Virtual Environments.  and Simulation.  Educational Technologies'], \n",
    "['Represent the Wikipedia document for retrieval: ','Network Technology.  Data Science.  Computer Networks (Planning.  Design.  Architecture).  Cloud.  Fog.  and Edge Computing.  Internet of Things (IoT).  Software Defined Networks (SDN).  Network security (Threat modelling.  blockchain.  usable security).  Big Data Analytics.  Machine Learning & Artificial Intelligence.  Connected/Autonomous Vehicles'], \n",
    "['Represent the Wikipedia document for retrieval: ','Human-Computer Interaction. Game Design.  Development.  & Interactions. Wearables'], \n",
    "['Represent the Wikipedia document for retrieval: ','Human-Computer Interaction. Game Design.  Development.  & Interactions. Virtual & Augmented Reality. Animation.  Virtual Environments.  and Simulation. Video/Image Processing and Compression. Medical Imaging and Applications. Multimedia Streaming. Machine Learning & Artificial Intelligence. Connected/Autonomous Vehicles'], \n",
    "['Represent the Wikipedia document for retrieval: ',' '], \n",
    "['Represent the Wikipedia document for retrieval: ','Data Science.  Human-Computer Interaction.  Game Design.  Development.  & Interactions.  Animation.  Virtual Environments.  and Simulation.  Interactive Storytelling.  Machine Learning & Artificial Intelligence'], \n",
    "['Represent the Wikipedia document for retrieval: ','Network Technology. Data Science. Multimedia Streaming. Computer Networks (Planning.  Design.  Architecture). Cloud.  Fog.  and Edge Computing. Internet of Things (IoT). Software Defined Networks (SDN). Ad-hoc and Wireless Sensor Networks. Network security (Threat modelling.  blockchain.  usable security). Data Privacy. Data Modelling. Machine Learning & Artificial Intelligence. Connected/Autonomous Vehicles'], \n",
    "['Represent the Wikipedia document for retrieval: ','Network Technology.  Virtual & Augmented Reality.  Computer Networks (Planning.  Design.  Architecture).  Cloud.  Fog.  and Edge Computing.  Internet of Things (IoT).  Software Defined Networks (SDN).  Ad-hoc and Wireless Sensor Networks.  Machine Learning & Artificial Intelligence.  Connected/Autonomous Vehicles'], \n",
    "['Represent the Wikipedia document for retrieval: ','Digital Sound and Audio.  Virtual & Augmented Reality.  Computer Networks (Planning.  Design.  Architecture).  Internet of Things (IoT)'], \n",
    "['Represent the Wikipedia document for retrieval: ',' '], \n",
    "['Represent the Wikipedia document for retrieval: ','Network Technology.  Computer Networks (Planning.  Design.  Architecture).  Cloud.  Fog.  and Edge Computing.  Internet of Things (IoT).  Software Defined Networks (SDN).  Ad-hoc and Wireless Sensor Networks'], \n",
    "['Represent the Wikipedia document for retrieval: ','Data Science.  Video/Image Processing and Compression.  Internet of Things (IoT).  Ad-hoc and Wireless Sensor Networks.  Data Privacy.  Machine Learning & Artificial Intelligence.  Connected/Autonomous Vehicles'], \n",
    "['Represent the Wikipedia document for retrieval: ','Cloud.  Fog.  and Edge Computing.  Internet of Things (IoT).  Ad-hoc and Wireless Sensor Networks.  Network security (Threat modelling.  blockchain.  usable security).  Data Privacy.  Data Modelling'], \n",
    "['Represent the Wikipedia document for retrieval: ',' '], \n",
    "['Represent the Wikipedia document for retrieval: ','Data Science.  Cloud.  Fog.  and Edge Computing.  Internet of Things (IoT).  Big Data Analytics.  Data Modelling.  Machine Learning & Artificial Intelligence'], \n",
    "['Represent the Wikipedia document for retrieval: ','Human-Computer Interaction.  Game Design.  Development.  & Interactions.  Virtual & Augmented Reality'], \n",
    "['Represent the Wikipedia document for retrieval: ','Network Technology.  Data Science.  Computer Networks (Planning.  Design.  Architecture).  Cloud.  Fog.  and Edge Computing.  Internet of Things (IoT).  Ad-hoc and Wireless Sensor Networks.  Network security (Threat modelling.  blockchain.  usable security).  Data Privacy.  Big Data Analytics'], \n",
    "['Represent the Wikipedia document for retrieval: ','Eclipse.  Beacon Technology.  Health informatics and Systems'], \n",
    "['Represent the Wikipedia document for retrieval: ','Optimization and Optimal Control.  Nonlinear Systems with State-Control Constraints.  Feedback Control for Nonlinear Systems.   Share: Twitter.  Facebook  Short URL: https://carleton.ca/math/?p=1273'], \n",
    "['Represent the Wikipedia document for retrieval: ','Dr. Stobert’s research interests are in usable security systems.  applying research from cognitive science to improve the design of security systems. She is interested in usable authentication.  usable security for healthcare.  and security education.'], \n",
    "['Represent the Wikipedia document for retrieval: ','Partial Differential Equations.  Numerical Analysis.  Mathematical Modeling.'], \n",
    "['Represent the Wikipedia document for retrieval: ','Analysis of Algorithms and advances in Distributed and Computational Biology.  Distributed and Mobile Agent Computing.  Networks (Ad Hoc.  Communication.  Sensor.  Social.  Wireless). and Cryptographic and Network Security'], \n",
    "['Represent the Wikipedia document for retrieval: ','Information visualization.  Human-computer interaction.  Health data visualization.  Shared display interactions'], \n",
    "['Represent the Wikipedia document for retrieval: ','Data science.  high performance computing.  parallel computing.  computational biochemistry.  online analytical processing'], \n",
    "['Represent the Wikipedia document for retrieval: ','– DEVS formalism – Real-Time modelling – Cellular models – Modelling and simulation methodologies and tools – Parallel/distributed/Web-based simulation – Real-Time operating systems. One funded PhD position is available in the area of Modeling and Simulation. Masters positions are available for Domestic students. Check our collaboration projects with Ericsson Canada. Channel Reconstruction for LTE/NR Performance Verification for Research and Leadership in Wireless Networks Spectrum Sharing with Machine Learning M-MIMO Channel Estimation using Distributed Machine Learning and Edge Computing Technologies Ericsson-Carleton Partnership'], \n",
    "['Represent the Wikipedia document for retrieval: ','Stochastic Processes and Applications.  Approximations and Control of Large Scale Service Systems.  Queueing Networks.  Financial Engineering.'], \n",
    "['Represent the Wikipedia document for retrieval: ','Performance modelling of distributed software.  based on an extension of queueing models called “layered queueing networks.  Performance modelling techniques and algorithms (simulation.  queueing and Petri Nets).  and applications to computer system.  Reverse Engineerin.  Operating System design and implementation.'], \n",
    "['Represent the Wikipedia document for retrieval: ','Human-centric research.  User-centric cybersecurity and privacy.  Human-centric software security.  Security and privacy in emerging technologies'], \n",
    "['Represent the Wikipedia document for retrieval: ','My interests span the physical.  medium access.  and networking layers.  and the cross-layer aspects of Wireless Communications.  including: Cellular networks (5G.  4G.  LTE/LTE-A).  Radio access networks.  Relay/multihop/mesh networks.  Cooperative communications.  Radio resource management.  Distributed antenna systems.  radio-over-fibre.  micro/pico/femto-cells.  Antenna architectures.  macro/microdiversity.  MIMO.  Multiple access.  OFDMA.  MAC.  Routing.  scheduling.  Sensor networks.  Cognitive radio.  spectrum.  opportunistic spectrum access.  Interference modeling.  User-in-the-loop in wireless networks.  Intelligent transportation systems'], \n",
    "['Represent the Wikipedia document for retrieval: ','Adaptive and Learning Systems. Multi Robot Learning and Adaptation. Cooperative Control of Multiple Autonomous Robots. Control of robot manipulators. Adaptive Control. System Identification.'], \n",
    "['Represent the Wikipedia document for retrieval: ','General area of interest: Wireless digital communications (stationary and mobile).  Noncoherent receiver design.  Error control coding (convolutional and turbo codes).  Applications of iterative decoding'], \n",
    "['Represent the Wikipedia document for retrieval: ','Geometric Group Theory.'], \n",
    "['Represent the Wikipedia document for retrieval: ','Applied Stochastic Processes and Control.  Performance Analysis of IP Networks.  Cross Layer design for Wireless Networks.  Wireless Ad-hoc networks.  Network Security'], \n",
    "['Represent the Wikipedia document for retrieval: ','My research focus has been in the following areas: Bioinformatics.  proteomics.  and prediction of protein structure.  function.  interaction.  and post-translational modificatio. Machine intelligence.  pattern classification.  data minin. Development of novel assistive technology and device. I also have interest in: medical informatics.  robotics.  machine vision.  and microprocessor application. Current projects include. Species-specific prediction of microRNA from genomic sequence or transcriptomics dat. Prediction of protein-protein interactions from sequenc. Development of various novel assistive devices for persons who are disabled and the elderl. Hardware acceleration of bioinformatics algorithms using GPGPU.  including real-time mass spectrometr. Identification of post-translational modifications in proteins.  including sumoylation.  glycosylation.  and hydroxylation.'], \n",
    "['Represent the Wikipedia document for retrieval: ','Combinatorial Enumerations.  Graph Theory.  and Mathematics of Gambling and Gaming.'], \n",
    "['Represent the Wikipedia document for retrieval: ','Harmonic analysis on locally compact quantum groups Operator modules and homology Quantum information theory'], \n",
    "['Represent the Wikipedia document for retrieval: ',' '], \n",
    "['Represent the Wikipedia document for retrieval: ',' '], \n",
    "['Represent the Wikipedia document for retrieval: ','Functional Data Analysis.  Longitudinal Data Analysis.  Mixture Models.  Computational Statistics/Numerical Analysis.'], \n",
    "['Represent the Wikipedia document for retrieval: ','For Object-Oriented Testing: scenario testing and test data generation. For Text Understanding: contextualized and generative comprehension'], \n",
    "['Represent the Wikipedia document for retrieval: ','Web Development.  Distributed Systems.  Internet of things.  Performance Evaluation.  Resources Sharing.  Routing optimization'], \n",
    "['Represent the Wikipedia document for retrieval: ','Dr. Oommen has done research in the general areas of Artificial Intelligence for more than 40 years. In the fields of Stochastic Learning and Learning Automata (LA).  he has pioneered the field of Discretized LA. Some of the fastest and most accurate LA are due to the work done by him and his co-authors. Research in these fields earned him his elevation to be a Fellow of the IEEE. In the area of Statistical Pattern Recognition (PR) he has pioneered the theory and applications of the so-called Anti-Bayesian paradigm of PR. Together with his co-authors.  he also introduced the science and art of Chaotic PR. His work in using Dependence Trees to achieve PR is also well recorded. In the area of Syntactic PR.  his award-winning algorithm has attained the optimal and information theoretic bound.  and this earned him his elevation to be a Fellow of the IAPR. Within the field of Neural Networks (NNs).  he has worked extensively with the Kohonen’s NN.  and has demonstrated how one can merge the structure of the NN and its topology. Besides these.  he has also worked in the general fields of AI.  intelligent game playing.  and LA-based data compression.'], \n",
    "['Represent the Wikipedia document for retrieval: ','Artificial Intelligence and Machine Learning'], \n",
    "['Represent the Wikipedia document for retrieval: ','Algorithms.  Computational Geometry.  Data Structures.  and GIS'], \n",
    "['Represent the Wikipedia document for retrieval: ','Combinatorial Optimization.  Integer and Logic Programming.  Mathematical Programming Computation.'], \n",
    "['Represent the Wikipedia document for retrieval: ',' '], \n",
    "['Represent the Wikipedia document for retrieval: ','Dr. Zhao’s primary research interests mainly concern low-level platform security.  including but not limited to hardware.  firmware.  hypervisor and OS. Specifically.  he would like to find out the actual trustworthiness of underlying components that are assumed or have to be trusted.  and based on the findings what can be done to eventually achieve trustworthy program execution. He is also interested in solutions to authentication.  privacy preservation and data protection that make use of the low-level approaches.'], \n",
    "['Represent the Wikipedia document for retrieval: ','Fluid Dynamics.  Applied Partial Differential Equations.  Numerical Analysis.'], \n",
    "['Represent the Wikipedia document for retrieval: ',' '], \n",
    "['Represent the Wikipedia document for retrieval: ','I am interested in interpretable machine learning.  deep neural networks.  and transfer learning. The goal is to create ML models with explainability in mind or to develop methods that can decipher existing black-box ML models. I am also interested in how ML models can learn to perform new tasks with a limited amount of labeled data; a capability that human is very good at.'], \n",
    "['Represent the Wikipedia document for retrieval: ','Dr. Lanthier’s research interests focus on robotics.  artificial life and computational geometry.  He has worked with numerous students on research projects involving robotic simulation and coordination.  robotic path planning and robotic sensing and design.'], \n",
    "['Represent the Wikipedia document for retrieval: ','My primary research interest is in Surgical Data Science. I use machine learning for time series data to improve outcomes in surgery and surgical training.  based on sensor information collected in the operating room or simulation environment. Due to the diversity in patients and the cost of adverse outcomes.  I advocate for the incorporation of domain knowledge into machine learning for surgery. My work facilitates real-time decision support in the operating room.  performance assessment and coaching.  and increased surgical efficiency.'], \n",
    "['Represent the Wikipedia document for retrieval: ',' '], \n",
    "['Represent the Wikipedia document for retrieval: ','Database Systems.  Intelligent Information Systems.  Web Technologies'], \n",
    "['Represent the Wikipedia document for retrieval: ',' '], \n",
    "['Represent the Wikipedia document for retrieval: ','orcid.org/0000-0003-3531-4926'], \n",
    "['Represent the Wikipedia document for retrieval: ','Computational Geometry.  Geometric Networks.  Graph Algorithms.  Data Structures.  Applications of Computational Geometry in Manufacturing'], \n",
    "['Represent the Wikipedia document for retrieval: ','Mean Field Stochastic Control.  Stochastic Algorithms in Multi-Agent Systems, Wireless Networks'], \n",
    "['Represent the Wikipedia document for retrieval: ',' '], \n",
    "['Represent the Wikipedia document for retrieval: ','Wireless sensor networks.  Internet of Things (IoT).  cognitive radio networks.  adaptive signal processing.  reconfigurable networks.  sensor integration.  radio frequency identification (RFID) systems. Applications in smart homes.  security.  safety.  healthcare.  smart grid.  renewable energies and green society.  smart cities.  intelligent transportation systems.  environment monitoring.  retail and logistics.'], \n",
    "['Represent the Wikipedia document for retrieval: ','Stochastic Processes.  Time Series Analysis.  Limit Theorems.  Estimation.  Long memory.  Forecasting.  Dependence.'], \n",
    "['Represent the Wikipedia document for retrieval: ',' '], \n",
    "['Represent the Wikipedia document for retrieval: ','Display clutter.  data overload.  eye tracking metrics and methods for usability testing and adaptive interfaces.  healthcare informatics.  interruption management.  perception and performance'], \n",
    "['Represent the Wikipedia document for retrieval: ',' '], \n",
    "['Represent the Wikipedia document for retrieval: ','High-Dimensional Statistical Inference.  Nonparametric Estimation.  Nonparametric Hypothesis Testing.'], \n",
    "['Represent the Wikipedia document for retrieval: ','Algorithms.  Communication Networks.  Data Structures.  Discrete Mathematics.  Distributed Computing.  Distributed and Real-time Systems.  Evolutionary Computing.  Graph Theory.  Mobile Computing.  Network Computing.  Parallel and Distributed Computing.  Robotics.  Theory of Computing.  and Wireless Communication'], \n",
    "['Represent the Wikipedia document for retrieval: ',' '], \n",
    "['Represent the Wikipedia document for retrieval: ','Empirical software engineering.  code review.  recommender systems.  mining Stack Overflow and GitHub.  machine learning.  NLP.  qualitative research (e.g..  survey.  experiments.  interviews).  eye tracking.  API summarization.  etc.'], \n",
    "['Represent the Wikipedia document for retrieval: ','Geometric Modeling.  Processing.  and Visualization Shape Analysis'], \n",
    "['Represent the Wikipedia document for retrieval: ','Algorithms and combinatorics of Planar and Near-Planar Graphs.  Graph Drawing.  Computational Geometry'], \n",
    "['Represent the Wikipedia document for retrieval: ','Categorical Data Analysis.  Biostatistics.  Sampling.  Applied Statistics.'], \n",
    "['Represent the Wikipedia document for retrieval: ','Representations of Algebraic and Metaplectic Groups.  Langlands Program.  Trace Formula Comparisons.  Endoscopy.'], \n",
    "['Represent the Wikipedia document for retrieval: ','Authentication and Identity Management.  System Security.  Software Security.  Application and Web Security.  Network Security.  Smartphone Security.  Usability and Security.  Passwords.  Public-Key Infrastructure.  SSL/TLS.'], \n",
    "['Represent the Wikipedia document for retrieval: ','Epidemiology.  Environmental and Occupational Health.  Longitudinal Studies.  Case-control studies and record linkage.'], \n",
    "['Represent the Wikipedia document for retrieval: ','Interactive networked systems: teleoperation.  telerobotics and telehaptics with applications to telemedicine.  Haptics with applications to medical simulations.  Robotics.  control and intelligent Systems.  Context-aware smart networks.  Wireless sensor networks'], \n",
    "['Represent the Wikipedia document for retrieval: ','Design and Analysis of Algorithms and Data Structures.  Applied Geometric Computing (applications to manufacturing.  computer vision.  pattern recognition).  Discrete and Computational Geometry.  Computer Vision.  Data Structures.  Discrete Mathematics.  Graph Algorithms.  Graph Theory.  Image Processing.  Pattern Recognition.  Randomized Algorithms.  Routing in Networks'], \n",
    "['Represent the Wikipedia document for retrieval: ','My research interests and expertise are in Software Engineering.  with a special interest in Crowdsourcing in Software Engineering (e.,g. Stack Overflow and npm).  Empirical Software Engineering.  Mining Software Repositories.  and Software Ecosystems. In particular.  I leverage historical project data and apply Data Mining.  Machine Learning.  and Statistical Analysis techniques in order to better understand what and how software practitioners use the crowd and build techniques to help them effectively take advantage of these crowd resources.'], \n",
    "['Represent the Wikipedia document for retrieval: ','Digital signal processing and its applications in biomedical engineering and audio processing.'], \n",
    "['Represent the Wikipedia document for retrieval: ','Machine-to-machine communications.  Internet-of-Things.  Analysis and design of MIMO wireless communication systems.  Applications of convex optimization and differential geometry in signal processing and communications.  Information-theoretic aspects of multiuser communication systems.  Cooperative communications.  Number-theoretic applications in communications.  Fairness and cross-layered designs Distributed antenna systems.  Applications of iterative detection and decoding techniques in multiple antenna and multiuser system'], \n",
    "['Represent the Wikipedia document for retrieval: ','Multimodal signal processing and audio-video signal processing.  Biomedical and biometric applications of digital signal processing.  Image and speech signal processing.  Fractal and multifractal complexity measures: Rényi dimension measures'], \n",
    "['Represent the Wikipedia document for retrieval: ','Human Computer Interaction.  Computer Security.  Computer Games.  Agile Software Development'], \n",
    "['Represent the Wikipedia document for retrieval: ','Genetic Algorithms.  Computing Education'], \n",
    "['Represent the Wikipedia document for retrieval: ',' '], \n",
    "['Represent the Wikipedia document for retrieval: ','Broadband Wireless Access.  Wireless Applications in Transportation Management and Safety.  Wireless LAN’s and Ad-Hoc networking.  Wireless Sensor Networks.  Integrated Fiber/Wireless local loo'], \n",
    "['Represent the Wikipedia document for retrieval: ','Number Theory.'], \n",
    "['Represent the Wikipedia document for retrieval: ',' '], \n",
    "['Represent the Wikipedia document for retrieval: ','Nonlinear Differential Equations.'], \n",
    "['Represent the Wikipedia document for retrieval: ','Software Requirements Engineering; Model Driven Approach & Aspect Oriented Design; Cloud Resource Provisioning and Management; Software Deployment in the Cloud and Multi-tenancy; Big Data Analytics: Software Repository.  Multi-media.  and Networks Radio Traffic Data.'], \n",
    "['Represent the Wikipedia document for retrieval: ','Sanjeena’s current research focuses on clustering and classification of high dimensional data with applications in bioinformatics. Her key areas of research are: Computational Statistics.  Biostatistics.  Bioinformatics.  Machine Learning.  High dimensional data.  Mixture Models.  and Variational Approximations.'], \n",
    "['Represent the Wikipedia document for retrieval: ','Biostatistics.  Longitudinal Data Analysis.  Missing Data Analysis.  Mixed Models and Robust Inference.  Share: Twitter.  Facebook  Short URL: https://carleton.ca/math/?p=1292'], \n",
    "['Represent the Wikipedia document for retrieval: ',' '], \n",
    "['Represent the Wikipedia document for retrieval: ','Current.  Parallel and Distributed Systems..  Performance Modelling and Performance Evaluation of Computer Systems..  Operating Systems..  Middleware.  Resource Management on Clouds and Grids.  Resource Management on Wireless Sensor Networks.  Web Services and Service Oriented Architecture.  Recent Past.  High Performance CORBA-based Middleware Systems..  Management of multiple processes and parallel I/O..  Scalable Web Servers.'], \n",
    "['Represent the Wikipedia document for retrieval: ','Data Mining.  Applied Statistics.'], \n",
    "['Represent the Wikipedia document for retrieval: ','Empirical Likelihood.  Asymptotic Theory.  Density Ratio Model.  Spatio-temporal Modeling.  Non- and Semi-parametric Inference.  Statistical Computing'], \n",
    "['Represent the Wikipedia document for retrieval: ','Usable security and privacy for children.  user authentication.  usable security for mobile devices.  improving mental models of security.  visualizations of computer security.  persuasive games to improve security behaviour of end-users.  phishing and trust of web interfaces.  collaborative security code reviews'], \n",
    "['Represent the Wikipedia document for retrieval: ','sensors and sensor systems (biomedical.  defence and security applications).  compressive sensing.  signal processing (including biomedical signal processing.  statistical signal processing.  adaptive signal processing).  machine learning.  pattern classification.'], \n",
    "['Represent the Wikipedia document for retrieval: ','Finite Fields and Applications in Cryptography and Coding Theory.  Combinatorics.  Algebra and Number Theory.'], \n",
    "['Represent the Wikipedia document for retrieval: ','Internet of Things (Smart Grid/Smart City).  Mobile computing systems and the mobile Internet.  Mobile ad-hoc networks.  Wireless sensor networks.  Tactical radio networks.  Adaptive mobile applications.  Software-defined networking.  Network function virtualization'], \n",
    "['Represent the Wikipedia document for retrieval: ','Utkarsh is a statistician and data scientist who works in health outcomes and precision medicine.  clinical trials.  biomarkers.  and statistical learning. Utkarsh’s work in health outcomes is on biomarkers and understanding phenotypic and treatment response variability. His work in clustering involves developing novel mixture models with applications in model-based clustering and classification while his work in phylogenetics involves developing novel algorithms with applications in bioinformatics.'], \n",
    "['Represent the Wikipedia document for retrieval: ','Queueing Theory.  Stochastic Processes.  Games of Chance.'], \n",
    "['Represent the Wikipedia document for retrieval: ','Animation Systems.  Interactive 3D Games.  Object-Oriented Systems.  Parsers.  and Computer Graphics'], \n",
    "['Represent the Wikipedia document for retrieval: ','Probability Measures on Topological Groups.  and Related Problems in Functional and Harmonic Analysis.  Ergodic Theory.  and the Theory of Topological Groups.'], \n",
    "['Represent the Wikipedia document for retrieval: ',': Applied Probability.  Queueing Theory and Queueing Networks.  Stochastic Modelling and Performance Analysis for Wireless and Computer Networks.  Credit Risk Modelling.  Derivative Markets and Pricing.'], \n",
    "['Represent the Wikipedia document for retrieval: ','Machine Learning.  Artificial Intelligence.  Natural Language Processing.  Computer Vision.  Bioinformatics.  Data Analysis'], \n",
    "['Represent the Wikipedia document for retrieval: ','Representation theory of infinite-dimensional Lie algebras.  Vertex algebras.  Applications to soliton non-linear PDEs.'], \n",
    "['Represent the Wikipedia document for retrieval: ','Include but are not limited to: Quantitative Risk Management.  Actuarial science.  Decision Theory.  Mathematical Finance.  Operations Research and FinTech/InsurTech.'], \n",
    "['Represent the Wikipedia document for retrieval: ','Sensors development and applications.  Biomedical monitoring/diagnosis/characterization.  Ultrasonic imaging and acoustic microscope,'], \n",
    "['Represent the Wikipedia document for retrieval: ','object-oriented systems.  high-dependability systems.  systems designed with the Unified Modeling Language (UML).  object-oriented systems.  systems designed with the Unified Modeling Language (UML).  high-dependability systems.  Model driven development and object-oriented analysis/design with the Unified Modeling Language (UML).  Software quality assurance and control based on quantitative methods and measurement.  experimental software engineering.  Applications of artificial intelligence and evolutionary computing to software engineering.  object-oriented systems.  systems designed with the Unified Modeling Language (UML).  high-dependability systems']\n",
    "]"
   ]
  },
  {
   "cell_type": "code",
   "execution_count": 16,
   "id": "b3aef34b-5e8a-4584-994d-88da309636c9",
   "metadata": {},
   "outputs": [],
   "source": [
    "# input_query = input(\"What would you like to search for?\")\n",
    "query  = [['Represent the Wikipedia question for retrieving supporting documents: ',\"social media\"]]\n",
    "\n",
    "query_embeddings = model.encode(query)"
   ]
  },
  {
   "cell_type": "code",
   "execution_count": 30,
   "id": "fa60d1ff-391e-4028-a1c4-4001233786aa",
   "metadata": {},
   "outputs": [],
   "source": [
    "import numpy as np\n",
    "from sklearn.metrics.pairwise import cosine_similarity\n",
    "\n",
    "\n",
    "\n",
    "# df['embeddings'] = df['interests'].apply(lambda x: model.encode(x))\n",
    "# df['similarities'] = df['embeddings'].apply(lambda x: cosine_similarity(x,query_embeddings))\n",
    "# (df.sort_values(\"similarities\", ascending=False).head(20)).to_csv('instructor-model-ranking.csv')\n",
    "\n",
    "similarities = cosine_similarity(query_embeddings,corpus_embeddings)\n",
    "df = pd.read_csv('accData.csv')\n",
    "df['embeddings'] = corpus_embeddings.tolist()\n",
    "df.to_csv('instructor-model-embeddings.csv')\n",
    "\n",
    "df['similarities'] = similarities[0].tolist()\n",
    "(df.sort_values(\"similarities\", ascending=False).head(10)).to_csv('instructor-model-ranking.csv')\n"
   ]
  },
  {
   "cell_type": "code",
   "execution_count": null,
   "id": "c5c379db-0213-45b1-9f6b-fc3e756ffd55",
   "metadata": {},
   "outputs": [],
   "source": []
  },
  {
   "cell_type": "code",
   "execution_count": null,
   "id": "94825b13-2cc0-465d-9b41-b95769a66953",
   "metadata": {},
   "outputs": [],
   "source": []
  }
 ],
 "metadata": {
  "kernelspec": {
   "display_name": "Python 3",
   "language": "python",
   "name": "python3"
  },
  "language_info": {
   "codemirror_mode": {
    "name": "ipython",
    "version": 3
   },
   "file_extension": ".py",
   "mimetype": "text/x-python",
   "name": "python",
   "nbconvert_exporter": "python",
   "pygments_lexer": "ipython3",
   "version": "3.8.8"
  }
 },
 "nbformat": 4,
 "nbformat_minor": 5
}
