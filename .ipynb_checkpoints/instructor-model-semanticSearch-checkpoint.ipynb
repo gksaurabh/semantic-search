{
 "cells": [
  {
   "cell_type": "markdown",
   "id": "4d1ed707-b534-4fd7-b809-fadeefce6b71",
   "metadata": {},
   "source": [
    "# Semantic Search/Text retrival\n",
    "For this implementation of our semantic search will use the [Instructor embedding](https://instructor-embedding.github.io/) \n",
    "\n",
    "## Install dependencies and import model"
   ]
  },
  {
   "cell_type": "code",
   "execution_count": null,
   "id": "4d8c1536-5a21-4ba4-954b-e85ab8edf47a",
   "metadata": {},
   "outputs": [],
   "source": [
    "!git clone https://github.com/HKUNLP/instructor-embedding"
   ]
  },
  {
   "cell_type": "code",
   "execution_count": 7,
   "id": "55e5dd70-e1e9-4705-8a22-c6bebd312864",
   "metadata": {},
   "outputs": [
    {
     "name": "stdout",
     "output_type": "stream",
     "text": [
      "Collecting transformers==4.20.0\n",
      "  Downloading transformers-4.20.0-py3-none-any.whl (4.4 MB)\n",
      "\u001b[K     |████████████████████████████████| 4.4 MB 4.6 MB/s eta 0:00:01\n",
      "\u001b[?25hCollecting datasets>=2.2.0\n",
      "  Using cached datasets-2.12.0-py3-none-any.whl (474 kB)\n",
      "Collecting jsonlines\n",
      "  Downloading jsonlines-3.1.0-py3-none-any.whl (8.6 kB)\n",
      "Requirement already satisfied: numpy in /Users/saurabhkishore/opt/anaconda3/lib/python3.8/site-packages (from -r instructor-embedding/requirements.txt (line 4)) (1.20.3)\n",
      "Collecting requests>=2.26.0\n",
      "  Downloading requests-2.31.0-py3-none-any.whl (62 kB)\n",
      "\u001b[K     |████████████████████████████████| 62 kB 8.7 MB/s  eta 0:00:01\n",
      "\u001b[?25hRequirement already satisfied: scikit_learn>=1.0.2 in /Users/saurabhkishore/opt/anaconda3/lib/python3.8/site-packages (from -r instructor-embedding/requirements.txt (line 6)) (1.2.2)\n",
      "Requirement already satisfied: scipy in /Users/saurabhkishore/opt/anaconda3/lib/python3.8/site-packages (from -r instructor-embedding/requirements.txt (line 7)) (1.10.1)\n",
      "Collecting sentence_transformers>=2.2.0\n",
      "  Downloading sentence-transformers-2.2.2.tar.gz (85 kB)\n",
      "\u001b[K     |████████████████████████████████| 85 kB 10.5 MB/s eta 0:00:01\n",
      "\u001b[?25hCollecting torch\n",
      "  Downloading torch-2.0.1-cp38-none-macosx_10_9_x86_64.whl (143.1 MB)\n",
      "\u001b[K     |████████████████████████████████| 143.1 MB 805 kB/s eta 0:00:01\n",
      "\u001b[?25hRequirement already satisfied: tqdm in /Users/saurabhkishore/opt/anaconda3/lib/python3.8/site-packages (from -r instructor-embedding/requirements.txt (line 10)) (4.65.0)\n",
      "Collecting rich\n",
      "  Downloading rich-13.4.1-py3-none-any.whl (239 kB)\n",
      "\u001b[K     |████████████████████████████████| 239 kB 11.2 MB/s eta 0:00:01\n",
      "\u001b[?25hCollecting tokenizers!=0.11.3,<0.13,>=0.11.1\n",
      "  Downloading tokenizers-0.12.1-cp38-cp38-macosx_10_11_x86_64.whl (3.6 MB)\n",
      "\u001b[K     |████████████████████████████████| 3.6 MB 94.9 MB/s eta 0:00:01\n",
      "\u001b[?25hRequirement already satisfied: filelock in /Users/saurabhkishore/opt/anaconda3/lib/python3.8/site-packages (from transformers==4.20.0->-r instructor-embedding/requirements.txt (line 1)) (3.0.12)\n",
      "Collecting huggingface-hub<1.0,>=0.1.0\n",
      "  Downloading huggingface_hub-0.15.1-py3-none-any.whl (236 kB)\n",
      "\u001b[K     |████████████████████████████████| 236 kB 11.6 MB/s eta 0:00:01\n",
      "\u001b[?25hRequirement already satisfied: pyyaml>=5.1 in /Users/saurabhkishore/opt/anaconda3/lib/python3.8/site-packages (from transformers==4.20.0->-r instructor-embedding/requirements.txt (line 1)) (5.4.1)\n",
      "Collecting regex!=2019.12.17\n",
      "  Downloading regex-2023.6.3-cp38-cp38-macosx_10_9_x86_64.whl (294 kB)\n",
      "\u001b[K     |████████████████████████████████| 294 kB 8.3 MB/s eta 0:00:01\n",
      "\u001b[?25hRequirement already satisfied: packaging>=20.0 in /Users/saurabhkishore/opt/anaconda3/lib/python3.8/site-packages (from transformers==4.20.0->-r instructor-embedding/requirements.txt (line 1)) (20.9)\n",
      "Collecting dill<0.3.7,>=0.3.0\n",
      "  Using cached dill-0.3.6-py3-none-any.whl (110 kB)\n",
      "Collecting multiprocess\n",
      "  Downloading multiprocess-0.70.14-py38-none-any.whl (132 kB)\n",
      "\u001b[K     |████████████████████████████████| 132 kB 23.4 MB/s eta 0:00:01\n",
      "\u001b[?25hRequirement already satisfied: aiohttp in /Users/saurabhkishore/opt/anaconda3/lib/python3.8/site-packages (from datasets>=2.2.0->-r instructor-embedding/requirements.txt (line 2)) (3.8.4)\n",
      "Collecting xxhash\n",
      "  Downloading xxhash-3.2.0-cp38-cp38-macosx_10_9_x86_64.whl (35 kB)\n",
      "Collecting fsspec[http]>=2021.11.1\n",
      "  Using cached fsspec-2023.5.0-py3-none-any.whl (160 kB)\n",
      "Requirement already satisfied: pandas in /Users/saurabhkishore/opt/anaconda3/lib/python3.8/site-packages (from datasets>=2.2.0->-r instructor-embedding/requirements.txt (line 2)) (2.0.2)\n",
      "Collecting responses<0.19\n",
      "  Using cached responses-0.18.0-py3-none-any.whl (38 kB)\n",
      "Collecting pyarrow>=8.0.0\n",
      "  Downloading pyarrow-12.0.0-cp38-cp38-macosx_10_14_x86_64.whl (24.7 MB)\n",
      "\u001b[K     |████████████████████████████████| 24.7 MB 952 kB/s eta 0:00:01\n",
      "\u001b[?25hRequirement already satisfied: idna<4,>=2.5 in /Users/saurabhkishore/opt/anaconda3/lib/python3.8/site-packages (from requests>=2.26.0->-r instructor-embedding/requirements.txt (line 5)) (2.10)\n",
      "Requirement already satisfied: urllib3<3,>=1.21.1 in /Users/saurabhkishore/opt/anaconda3/lib/python3.8/site-packages (from requests>=2.26.0->-r instructor-embedding/requirements.txt (line 5)) (1.26.4)\n",
      "Requirement already satisfied: charset-normalizer<4,>=2 in /Users/saurabhkishore/opt/anaconda3/lib/python3.8/site-packages (from requests>=2.26.0->-r instructor-embedding/requirements.txt (line 5)) (3.1.0)\n",
      "Requirement already satisfied: certifi>=2017.4.17 in /Users/saurabhkishore/opt/anaconda3/lib/python3.8/site-packages (from requests>=2.26.0->-r instructor-embedding/requirements.txt (line 5)) (2021.5.30)\n",
      "Requirement already satisfied: threadpoolctl>=2.0.0 in /Users/saurabhkishore/opt/anaconda3/lib/python3.8/site-packages (from scikit_learn>=1.0.2->-r instructor-embedding/requirements.txt (line 6)) (3.1.0)\n",
      "Requirement already satisfied: joblib>=1.1.1 in /Users/saurabhkishore/opt/anaconda3/lib/python3.8/site-packages (from scikit_learn>=1.0.2->-r instructor-embedding/requirements.txt (line 6)) (1.2.0)\n",
      "Collecting torchvision\n",
      "  Downloading torchvision-0.15.2-cp38-cp38-macosx_10_9_x86_64.whl (1.5 MB)\n",
      "\u001b[K     |████████████████████████████████| 1.5 MB 22.9 MB/s eta 0:00:01\n",
      "\u001b[?25hCollecting nltk\n",
      "  Using cached nltk-3.8.1-py3-none-any.whl (1.5 MB)\n",
      "Collecting sentencepiece\n",
      "  Downloading sentencepiece-0.1.99-cp38-cp38-macosx_10_9_x86_64.whl (1.2 MB)\n",
      "\u001b[K     |████████████████████████████████| 1.2 MB 24.5 MB/s eta 0:00:01\n",
      "\u001b[?25hCollecting networkx\n",
      "  Using cached networkx-3.1-py3-none-any.whl (2.1 MB)\n",
      "Collecting sympy\n",
      "  Downloading sympy-1.12-py3-none-any.whl (5.7 MB)\n",
      "\u001b[K     |████████████████████████████████| 5.7 MB 5.6 MB/s eta 0:00:01\n",
      "\u001b[?25hRequirement already satisfied: typing-extensions in /Users/saurabhkishore/opt/anaconda3/lib/python3.8/site-packages (from torch->-r instructor-embedding/requirements.txt (line 9)) (4.5.0)\n",
      "Requirement already satisfied: jinja2 in /Users/saurabhkishore/opt/anaconda3/lib/python3.8/site-packages (from torch->-r instructor-embedding/requirements.txt (line 9)) (3.0.0)\n",
      "Requirement already satisfied: aiosignal>=1.1.2 in /Users/saurabhkishore/opt/anaconda3/lib/python3.8/site-packages (from aiohttp->datasets>=2.2.0->-r instructor-embedding/requirements.txt (line 2)) (1.3.1)\n",
      "Requirement already satisfied: multidict<7.0,>=4.5 in /Users/saurabhkishore/opt/anaconda3/lib/python3.8/site-packages (from aiohttp->datasets>=2.2.0->-r instructor-embedding/requirements.txt (line 2)) (6.0.4)\n",
      "Requirement already satisfied: frozenlist>=1.1.1 in /Users/saurabhkishore/opt/anaconda3/lib/python3.8/site-packages (from aiohttp->datasets>=2.2.0->-r instructor-embedding/requirements.txt (line 2)) (1.3.3)\n",
      "Requirement already satisfied: attrs>=17.3.0 in /Users/saurabhkishore/opt/anaconda3/lib/python3.8/site-packages (from aiohttp->datasets>=2.2.0->-r instructor-embedding/requirements.txt (line 2)) (21.2.0)\n",
      "Requirement already satisfied: yarl<2.0,>=1.0 in /Users/saurabhkishore/opt/anaconda3/lib/python3.8/site-packages (from aiohttp->datasets>=2.2.0->-r instructor-embedding/requirements.txt (line 2)) (1.9.2)\n",
      "Requirement already satisfied: async-timeout<5.0,>=4.0.0a3 in /Users/saurabhkishore/opt/anaconda3/lib/python3.8/site-packages (from aiohttp->datasets>=2.2.0->-r instructor-embedding/requirements.txt (line 2)) (4.0.2)\n",
      "Requirement already satisfied: pyparsing>=2.0.2 in /Users/saurabhkishore/opt/anaconda3/lib/python3.8/site-packages (from packaging>=20.0->transformers==4.20.0->-r instructor-embedding/requirements.txt (line 1)) (2.4.7)\n",
      "Collecting pygments<3.0.0,>=2.13.0\n",
      "  Downloading Pygments-2.15.1-py3-none-any.whl (1.1 MB)\n",
      "\u001b[K     |████████████████████████████████| 1.1 MB 81.2 MB/s eta 0:00:01\n",
      "\u001b[?25hCollecting markdown-it-py<3.0.0,>=2.2.0\n",
      "  Downloading markdown_it_py-2.2.0-py3-none-any.whl (84 kB)\n",
      "\u001b[K     |████████████████████████████████| 84 kB 6.1 MB/s  eta 0:00:01\n",
      "\u001b[?25hCollecting mdurl~=0.1\n",
      "  Downloading mdurl-0.1.2-py3-none-any.whl (10.0 kB)\n",
      "Requirement already satisfied: MarkupSafe>=2.0.0rc2 in /Users/saurabhkishore/opt/anaconda3/lib/python3.8/site-packages (from jinja2->torch->-r instructor-embedding/requirements.txt (line 9)) (2.1.2)\n",
      "Requirement already satisfied: click in /Users/saurabhkishore/opt/anaconda3/lib/python3.8/site-packages (from nltk->sentence_transformers>=2.2.0->-r instructor-embedding/requirements.txt (line 8)) (8.0.1)\n",
      "Requirement already satisfied: tzdata>=2022.1 in /Users/saurabhkishore/opt/anaconda3/lib/python3.8/site-packages (from pandas->datasets>=2.2.0->-r instructor-embedding/requirements.txt (line 2)) (2023.3)\n",
      "Requirement already satisfied: python-dateutil>=2.8.2 in /Users/saurabhkishore/opt/anaconda3/lib/python3.8/site-packages (from pandas->datasets>=2.2.0->-r instructor-embedding/requirements.txt (line 2)) (2.8.2)\n",
      "Requirement already satisfied: pytz>=2020.1 in /Users/saurabhkishore/opt/anaconda3/lib/python3.8/site-packages (from pandas->datasets>=2.2.0->-r instructor-embedding/requirements.txt (line 2)) (2021.1)\n",
      "Requirement already satisfied: six>=1.5 in /Users/saurabhkishore/opt/anaconda3/lib/python3.8/site-packages (from python-dateutil>=2.8.2->pandas->datasets>=2.2.0->-r instructor-embedding/requirements.txt (line 2)) (1.15.0)\n",
      "Collecting mpmath>=0.19\n",
      "  Using cached mpmath-1.3.0-py3-none-any.whl (536 kB)\n",
      "Requirement already satisfied: pillow!=8.3.*,>=5.3.0 in /Users/saurabhkishore/opt/anaconda3/lib/python3.8/site-packages (from torchvision->sentence_transformers>=2.2.0->-r instructor-embedding/requirements.txt (line 8)) (8.2.0)\n",
      "Building wheels for collected packages: sentence-transformers\n",
      "  Building wheel for sentence-transformers (setup.py) ... \u001b[?25ldone\n",
      "\u001b[?25h  Created wheel for sentence-transformers: filename=sentence_transformers-2.2.2-py3-none-any.whl size=125918 sha256=a25cf1815bd52fa5d36578bceb72795e863c4e6cbf66cf9214faba0efe55804e\n",
      "  Stored in directory: /Users/saurabhkishore/Library/Caches/pip/wheels/5e/6f/8c/d88aec621f3f542d26fac0342bef5e693335d125f4e54aeffe\n",
      "Successfully built sentence-transformers\n",
      "Installing collected packages: mpmath, sympy, requests, networkx, fsspec, torch, tokenizers, regex, mdurl, huggingface-hub, dill, xxhash, transformers, torchvision, sentencepiece, responses, pygments, pyarrow, nltk, multiprocess, markdown-it-py, sentence-transformers, rich, jsonlines, datasets\n",
      "  Attempting uninstall: requests\n",
      "    Found existing installation: requests 2.25.1\n",
      "    Uninstalling requests-2.25.1:\n",
      "      Successfully uninstalled requests-2.25.1\n",
      "  Attempting uninstall: pygments\n",
      "    Found existing installation: Pygments 2.9.0\n",
      "    Uninstalling Pygments-2.9.0:\n",
      "      Successfully uninstalled Pygments-2.9.0\n",
      "\u001b[31mERROR: pip's dependency resolver does not currently take into account all the packages that are installed. This behaviour is the source of the following dependency conflicts.\n",
      "conda-repo-cli 1.0.4 requires pathlib, which is not installed.\u001b[0m\n",
      "Successfully installed datasets-2.12.0 dill-0.3.6 fsspec-2023.5.0 huggingface-hub-0.15.1 jsonlines-3.1.0 markdown-it-py-2.2.0 mdurl-0.1.2 mpmath-1.3.0 multiprocess-0.70.14 networkx-3.1 nltk-3.8.1 pyarrow-12.0.0 pygments-2.15.1 regex-2023.6.3 requests-2.31.0 responses-0.18.0 rich-13.4.1 sentence-transformers-2.2.2 sentencepiece-0.1.99 sympy-1.12 tokenizers-0.12.1 torch-2.0.1 torchvision-0.15.2 transformers-4.20.0 xxhash-3.2.0\n",
      "Requirement already satisfied: InstructorEmbedding in /Users/saurabhkishore/opt/anaconda3/lib/python3.8/site-packages (1.0.1)\n"
     ]
    }
   ],
   "source": [
    "!pip install -r instructor-embedding/requirements.txt\n",
    "!pip install InstructorEmbedding"
   ]
  },
  {
   "cell_type": "code",
   "execution_count": 8,
   "id": "5b0ae914-cbb9-41d5-994a-ee8e411d3948",
   "metadata": {},
   "outputs": [
    {
     "name": "stderr",
     "output_type": "stream",
     "text": [
      "/Users/saurabhkishore/opt/anaconda3/lib/python3.8/site-packages/InstructorEmbedding/instructor.py:7: TqdmExperimentalWarning: Using `tqdm.autonotebook.tqdm` in notebook mode. Use `tqdm.tqdm` instead to force console mode (e.g. in jupyter console)\n",
      "  from tqdm.autonotebook import trange\n"
     ]
    },
    {
     "data": {
      "application/vnd.jupyter.widget-view+json": {
       "model_id": "b2b4af38319841ea964bdedceaec0ea7",
       "version_major": 2,
       "version_minor": 0
      },
      "text/plain": [
       "Downloading (…)7f436/.gitattributes:   0%|          | 0.00/1.48k [00:00<?, ?B/s]"
      ]
     },
     "metadata": {},
     "output_type": "display_data"
    },
    {
     "data": {
      "application/vnd.jupyter.widget-view+json": {
       "model_id": "d0fb7d220e59408c995f916e0a65478b",
       "version_major": 2,
       "version_minor": 0
      },
      "text/plain": [
       "Downloading (…)_Pooling/config.json:   0%|          | 0.00/270 [00:00<?, ?B/s]"
      ]
     },
     "metadata": {},
     "output_type": "display_data"
    },
    {
     "data": {
      "application/vnd.jupyter.widget-view+json": {
       "model_id": "08d8934267184da3ac62586b3bb4206f",
       "version_major": 2,
       "version_minor": 0
      },
      "text/plain": [
       "Downloading (…)/2_Dense/config.json:   0%|          | 0.00/116 [00:00<?, ?B/s]"
      ]
     },
     "metadata": {},
     "output_type": "display_data"
    },
    {
     "data": {
      "application/vnd.jupyter.widget-view+json": {
       "model_id": "0abf4364542349dfab9cfedacfbd59a2",
       "version_major": 2,
       "version_minor": 0
      },
      "text/plain": [
       "Downloading pytorch_model.bin:   0%|          | 0.00/3.15M [00:00<?, ?B/s]"
      ]
     },
     "metadata": {},
     "output_type": "display_data"
    },
    {
     "data": {
      "application/vnd.jupyter.widget-view+json": {
       "model_id": "695fc433666d443c9eab131d4b6fcdd0",
       "version_major": 2,
       "version_minor": 0
      },
      "text/plain": [
       "Downloading (…)0daf57f436/README.md:   0%|          | 0.00/66.3k [00:00<?, ?B/s]"
      ]
     },
     "metadata": {},
     "output_type": "display_data"
    },
    {
     "data": {
      "application/vnd.jupyter.widget-view+json": {
       "model_id": "8cd6503175c645d78dac3df3ee33651c",
       "version_major": 2,
       "version_minor": 0
      },
      "text/plain": [
       "Downloading (…)af57f436/config.json:   0%|          | 0.00/1.52k [00:00<?, ?B/s]"
      ]
     },
     "metadata": {},
     "output_type": "display_data"
    },
    {
     "data": {
      "application/vnd.jupyter.widget-view+json": {
       "model_id": "d56eb0be9e884e99935c209288eb9977",
       "version_major": 2,
       "version_minor": 0
      },
      "text/plain": [
       "Downloading (…)ce_transformers.json:   0%|          | 0.00/122 [00:00<?, ?B/s]"
      ]
     },
     "metadata": {},
     "output_type": "display_data"
    },
    {
     "data": {
      "application/vnd.jupyter.widget-view+json": {
       "model_id": "334c79bc782642d88220c7ee3d16c7c6",
       "version_major": 2,
       "version_minor": 0
      },
      "text/plain": [
       "Downloading pytorch_model.bin:   0%|          | 0.00/4.96G [00:00<?, ?B/s]"
      ]
     },
     "metadata": {},
     "output_type": "display_data"
    },
    {
     "data": {
      "application/vnd.jupyter.widget-view+json": {
       "model_id": "7dfef86a63664b70961a56edf05f5940",
       "version_major": 2,
       "version_minor": 0
      },
      "text/plain": [
       "Downloading (…)nce_bert_config.json:   0%|          | 0.00/53.0 [00:00<?, ?B/s]"
      ]
     },
     "metadata": {},
     "output_type": "display_data"
    },
    {
     "data": {
      "application/vnd.jupyter.widget-view+json": {
       "model_id": "d89fdc3c58b84f4491122f517eec064a",
       "version_major": 2,
       "version_minor": 0
      },
      "text/plain": [
       "Downloading (…)cial_tokens_map.json:   0%|          | 0.00/2.20k [00:00<?, ?B/s]"
      ]
     },
     "metadata": {},
     "output_type": "display_data"
    },
    {
     "data": {
      "application/vnd.jupyter.widget-view+json": {
       "model_id": "1c35e5256280463b86d6094e89a4c275",
       "version_major": 2,
       "version_minor": 0
      },
      "text/plain": [
       "Downloading spiece.model:   0%|          | 0.00/792k [00:00<?, ?B/s]"
      ]
     },
     "metadata": {},
     "output_type": "display_data"
    },
    {
     "data": {
      "application/vnd.jupyter.widget-view+json": {
       "model_id": "7b7d983713e94a169b324cfe3e934746",
       "version_major": 2,
       "version_minor": 0
      },
      "text/plain": [
       "Downloading (…)7f436/tokenizer.json:   0%|          | 0.00/2.42M [00:00<?, ?B/s]"
      ]
     },
     "metadata": {},
     "output_type": "display_data"
    },
    {
     "data": {
      "application/vnd.jupyter.widget-view+json": {
       "model_id": "e9b45f616f824138bfdbc1529cdbc6b1",
       "version_major": 2,
       "version_minor": 0
      },
      "text/plain": [
       "Downloading (…)okenizer_config.json:   0%|          | 0.00/2.40k [00:00<?, ?B/s]"
      ]
     },
     "metadata": {},
     "output_type": "display_data"
    },
    {
     "data": {
      "application/vnd.jupyter.widget-view+json": {
       "model_id": "9a14f6cbfdd04b769625fdeee744fb3f",
       "version_major": 2,
       "version_minor": 0
      },
      "text/plain": [
       "Downloading (…)f57f436/modules.json:   0%|          | 0.00/461 [00:00<?, ?B/s]"
      ]
     },
     "metadata": {},
     "output_type": "display_data"
    },
    {
     "name": "stdout",
     "output_type": "stream",
     "text": [
      "load INSTRUCTOR_Transformer\n",
      "max_seq_length  512\n"
     ]
    }
   ],
   "source": [
    "from InstructorEmbedding import INSTRUCTOR\n",
    "model = INSTRUCTOR('hkunlp/instructor-xl')"
   ]
  },
  {
   "cell_type": "markdown",
   "id": "b94d3502-3d75-46d5-9419-04dc3ca50c9f",
   "metadata": {},
   "source": [
    "# Import our Corpus and calculate embedings"
   ]
  },
  {
   "cell_type": "code",
   "execution_count": 16,
   "id": "6433eefa-970b-443f-9339-2744a0d61d41",
   "metadata": {},
   "outputs": [
    {
     "name": "stdout",
     "output_type": "stream",
     "text": [
      "[['Partial Differential Equations. Nonlinear Analysis and Optimal Mass Transportation.']\n",
      " ['Internet Measurements. Computer Systems and Network Security. SSL/TLS. Secure DNS. Authentication. Secure BGP. Secure Internet Geolocation. Software Defined-Network Security.']\n",
      " ['Non-invasive sensor systems. Biomedical signal processing. Biomedical image processing. Machine learning,Pattern classification,Accessibility']\n",
      " ['.']\n",
      " ['Question answering over knowledge graphs. information integration in linked data. open data integration. incorporating non-expert users in data integration. knowledge graph mining. and fact checking using heterogeneous data.']\n",
      " ['Computational Social Choice. Voting Theory. Social Network Simulations. Algorithmic Fairness. Fair Allocation']\n",
      " ['Algorithms. Algorithmic Game Theory. Network and Graph Theory.']\n",
      " ['Algorithms. Computational Geometry. Visualization.']\n",
      " ['Digital and Wireless Communications. Coding and Information Theory. Signal Processing and Algorithms']\n",
      " ['.']\n",
      " ['Medical Image Processing. Applications for Monitoring lung and heart activity. Image reconstruction models to account for errors. Applications for Monitoring lung and heart activity. Image reconstruction models to account for errors. Monitoring lung function in mice. Modelling of Airways physiology. Monitoring lung function in mice. Modelling of Airways physiology. Face Recognition systems. Issues in Biometric Application Design and Integration. Security Implications of biometrics. Face Recognition systems. Issues in Biometric Application Design and Integration. Security Implications of biometrics. Applications for Monitoring lung and heart activity. Image reconstruction models to account for errors. Monitoring lung function in mice. Modelling of Airways physiology. Face Recognition systems. Issues in Biometric Application Design and Integration. Security Implications of biometrics']\n",
      " ['Celestial Mechanics. Spectral Theory of Differential Operators. Fuzzy Cellular Automata. Irrationality Questions in Number Theory.']\n",
      " ['Design. Analysis and Implementation of Algorithms for Problems arising in Computational Geometry. Graph Theory. Discrete Mathematics. and Data Science.']\n",
      " ['Computer Security. Operating Systems. Intrusion Detection. Complex Adaptive Systems. Artificial Life']\n",
      " ['Number Theory and Analysis.']\n",
      " ['Agent-based systems. Network computing. Applications of artificial intelligence. Object-oriented design and languages. Network management and supervision.']\n",
      " ['Probability Theory and Mathematical Statisticsh Strong and Weak Approximations of Stochastic Processesh Weighted Metricsh LimitTheoremsh Change-point Analysish Nonparametric Methods.']\n",
      " ['.']\n",
      " ['Design Theory. Gray Codes. De Bruijn Sequences and Universal Cycles. Combinatorial Game Theory. Graph Theory. Mathematical Biology. Philosophy of Mathematics.']\n",
      " ['.']\n",
      " ['Stochastic Control in Computer Networks. Modelling and Simulation Techniques. Resource Optimization in Wireless Networks. Reliability Mechanisms for Optical Networks. Network Protocol Design and Implementation Issues']\n",
      " ['.']\n",
      " ['.']\n",
      " ['After working in the high tech industry for nearly 10 years as a software developer and team leader. Dr. Laurendeau returned to academia in 2005 to pursue a doctorate in Computer Science at Carleton University. She completed her Ph.D. in 2009. and in the same year joined the School of Computer Science as a tenure-track Instructor (teaching professor). She served as Associate Director (Undergraduate) from 2011 to 2014. then as the School’s Co-op Faculty Advisor from 2014 to 2018h She is currently the Associate Director (Recruitment and Outreach) for the School of Computer Scienceh Dr. Laurendeau specializes in teaching first and second year computer programming courses. with a focus on software engineering.']\n",
      " ['Software Engineering: Software Architecture. Service-Oriented Computing. Generative Programming. Self-Managing Systems. Software Reengineering. Networks: Software Defined Networking (SDN). Traffic Engineering. Quality of Service. Content-Based Routing. Wireless Communications. Ad-Hoc Networks. Sensor Networks. and Network-Based Control Systems. Cloud Computing and Distributed Computing: Internet of Things (IoT). Big Data Analytics. Resource Management. Web Services. Real-time Concurrent Software.']\n",
      " ['Noncommutative Algebra. Algebraic Geometry']\n",
      " ['.']\n",
      " ['Organizational Resilience. Discrete-Event Modeling and Simulation. Agent-Based Modeling. Network Theory']\n",
      " ['Finite Fields and Their Applications; Combinatorics; Analysis oh Algorithms.']\n",
      " ['.']\n",
      " ['Nonlinear Partial Differential Equations. Wave Phenomena. Pattern Formation. Fluid Mechanics. Nonlinear Optics. Mathematical Biology. Mathematical Modelling. Numerical Analysis.']\n",
      " ['.']\n",
      " ['.']\n",
      " ['Computer and Network Security. Internet of Things Security. Operating Systems Security.']\n",
      " ['Non-Photorealistic Rendering. Image Stylization. Texture Synthesis. Procedural Modeling. Nonlinear Storytelling']\n",
      " ['.']\n",
      " ['Algorithms. Computational Geometry. Computer Graphics. Computer Vision. Data Structures. Distributed Computing. GIS. Geographic Information Systems. Medical Computing. Parallel Computing. Parallel and Distributed Computing. Robotics and Machine Vision. and Robotics']\n",
      " ['Automated Reasoning. Formal Methods in Software Engineering. Programming Languages. and Software Engineering']\n",
      " ['Human-Computer Interaction. Game Design. Development. & Interactions. Wearables. Virtual & Augmented Reality. Animation. Virtual Environments. and Simulation. Educational Technologies']\n",
      " ['Network Technology. Data Science. Computer Networks (Planning. Design. Architecture). Cloud. Fog. and Edge Computing. Internet of Things (IoT). Software Defined Networks (SDN). Network security (Threat modelling. blockchain. usable security). Big Data Analytics. Machine Learning & Artificial Intelligence. Connected/Autonomous Vehicles']\n",
      " ['Human-Computer Interaction. Game Design. Development. & Interactions. Wearables']\n",
      " ['Human-Computer Interaction. Game Design. Development. & Interactions. Virtual & Augmented Reality. Animation. Virtual Environments. and Simulation. Video/Image Processing and Compression. Medical Imaging and Applications. Multimedia Streaming. Machine Learning & Artificial Intelligence. Connected/Autonomous Vehicles']\n",
      " ['.']\n",
      " ['Data Science. Human-Computer Interaction. Game Design. Development. & Interactions. Animation. Virtual Environments. and Simulation. Interactive Storytelling. Machine Learning & Artificial Intelligence']\n",
      " ['Network Technology. Data Science. Multimedia Streaming. Computer Networks (Planning. Design. Architecture). Cloud. Fog. and Edge Computing. Internet of Things (IoT). Software Defined Networks (SDN). Ad-hoc and Wireless Sensor Networks. Network security (Threat modelling. blockchain. usable security). Data Privacy. Data Modelling. Machine Learning & Artificial Intelligence. Connected/Autonomous Vehicles']\n",
      " ['Network Technology. Virtual & Augmented Reality. Computer Networks (Planning. Design. Architecture). Cloud. Fog. and Edge Computing. Internet of Things (IoT). Software Defined Networks (SDN). Ad-hoc and Wireless Sensor Networks. Machine Learning & Artificial Intelligence. Connected/Autonomous Vehicles']\n",
      " ['Digital Sound and Audio. Virtual & Augmented Reality. Computer Networks (Planning. Design. Architecture). Internet of Things (IoT)']\n",
      " ['.']\n",
      " ['Network Technology. Computer Networks (Planning. Design. Architecture). Cloud. Fog. and Edge Computing. Internet of Things (IoT). Software Defined Networks (SDN). Ad-hoc and Wireless Sensor Networks']\n",
      " ['Data Science. Video/Image Processing and Compression. Internet of Things (IoT). Ad-hoc and Wireless Sensor Networks. Data Privacy. Machine Learning & Artificial Intelligence. Connected/Autonomous Vehicles']\n",
      " ['Cloud. Fog. and Edge Computing. Internet of Things (IoT). Ad-hoc and Wireless Sensor Networks. Network security (Threat modelling. blockchain. usable security). Data Privacy. Data Modelling']\n",
      " ['.']\n",
      " ['Data Science. Cloud. Fog. and Edge Computing. Internet of Things (IoT). Big Data Analytics. Data Modelling. Machine Learning & Artificial Intelligence']\n",
      " ['Human-Computer Interaction. Game Design. Development. & Interactions. Virtual & Augmented Reality']\n",
      " ['Network Technology. Data Science. Computer Networks (Planning. Design. Architecture). Cloud. Fog. and Edge Computing. Internet of Things (IoT). Ad-hoc and Wireless Sensor Networks. Network security (Threat modelling. blockchain. usable security). Data Privacy. Big Data Analytics']\n",
      " ['Eclipse. Beacon Technology. Health informatics and Systems']\n",
      " ['Optimization and Optimal Control. Nonlinear Systems with State-Control Constraints. Feedback Control for Nonlinear Systems. Share: Twitter. Facebook Short URL: https://carleton.ca/math/?p=1273']\n",
      " ['Dr. Stobert’s research interests are in usable security systems. applying research from cognitive science to improve the design of security systems. She is interested in usable authentication. usable security for healthcare. and security education.']\n",
      " ['Partial Differential Equations. Numerical Analysis. Mathematical Modeling.']\n",
      " ['Analysis of Algorithms and advances in Distributed and Computational Biology. Distributed and Mobile Agent Computing. Networks (Ad Hoc. Communication. Sensor. Social. Wireless). and Cryptographic and Network Security']\n",
      " ['Information visualization. Human-computer interaction. Health data visualization. Shared display interactions']\n",
      " ['Data science. high performance computing. parallel computing. computational biochemistry. online analytical processing']\n",
      " ['– DEVS formalism – Real-Time modelling – Cellular models – Modelling and simulation methodologies and tools – Parallel/distributed/Web-based simulation – Real-Time operating systems. One funded PhD position is available in the area of Modeling and Simulation. Masters positions are available for Domestic students. Check our collaboration projects with Ericsson Canada. Channel Reconstruction for LTE/NR Performance Verification for Research and Leadership in Wireless Networks Spectrum Sharing with Machine Learning M-MIMO Channel Estimation using Distributed Machine Learning and Edge Computing Technologies Ericsson-Carleton Partnership']\n",
      " ['Stochastic Processes and Applications. Approximations and Control of Large Scale Service Systems. Queueing Networks. Financial Engineering.']\n",
      " ['Performance modelling of distributed software. based on an extension of queueing models called “layered queueing networks. Performance modelling techniques and algorithms (simulation. queueing and Petri Nets). and applications to computer system. Reverse Engineerin. Operating System design and implementation.']\n",
      " ['Human-centric research. User-centric cybersecurity and privacy. Human-centric software security. Security and privacy in emerging technologies']\n",
      " ['My interests span the physical. medium access. and networking layers. and the cross-layer aspects of Wireless Communications. including: Cellular networks (5G. 4G. LTE/LTE-A). Radio access networks. Relay/multihop/mesh networks. Cooperative communications. Radio resource management. Distributed antenna systems. radio-over-fibre. micro/pico/femto-cells. Antenna architectures. macro/microdiversity. MIMO. Multiple access. OFDMA. MAC. Routing. scheduling. Sensor networks. Cognitive radio. spectrum. opportunistic spectrum access. Interference modeling. User-in-the-loop in wireless networks. Intelligent transportation systems']\n",
      " ['Adaptive and Learning Systems. Multi Robot Learning and Adaptation. Cooperative Control of Multiple Autonomous Robots. Control of robot manipulators. Adaptive Control. System Identification.']\n",
      " ['General area of interest: Wireless digital communications (stationary and mobile). Noncoherent receiver design. Error control coding (convolutional and turbo codes). Applications of iterative decoding']\n",
      " ['Geometric Group Theory.']\n",
      " ['Applied Stochastic Processes and Control. Performance Analysis of IP Networks. Cross Layer design for Wireless Networks. Wireless Ad-hoc networks. Network Security']\n",
      " ['My research focus has been in the following areas: Bioinformatics. proteomics. and prediction of protein structure. function. interaction. and post-translational modificatio. Machine intelligence. pattern classification. data minin. Development of novel assistive technology and device. I also have interest in: medical informatics. robotics. machine vision. and microprocessor application. Current projects include. Species-specific prediction of microRNA from genomic sequence or transcriptomics dat. Prediction of protein-protein interactions from sequenc. Development of various novel assistive devices for persons who are disabled and the elderl. Hardware acceleration of bioinformatics algorithms using GPGPU. including real-time mass spectrometr. Identification of post-translational modifications in proteins. including sumoylation. glycosylation. and hydroxylation.']\n",
      " ['Combinatorial Enumerations. Graph Theory. and Mathematics of Gambling and Gaming.']\n",
      " ['Harmonic analysis on locally compact quantum groups Operator modules and homology Quantum information theory']\n",
      " ['.']\n",
      " ['.']\n",
      " ['Functional Data Analysis. Longitudinal Data Analysis. Mixture Models. Computational Statistics/Numerical Analysis.']\n",
      " ['For Object-Oriented Testing: scenario testing and test data generation. For Text Understanding: contextualized and generative comprehension']\n",
      " ['Web Development. Distributed Systems. Internet of things. Performance Evaluation. Resources Sharing. Routing optimization']\n",
      " ['Dr. Oommen has done research in the general areas of Artificial Intelligence for more than 40 years. In the fields of Stochastic Learning and Learning Automata (LA). he has pioneered the field of Discretized LA. Some of the fastest and most accurate LA are due to the work done by him and his co-authors. Research in these fields earned him his elevation to be a Fellow of the IEEE. In the area of Statistical Pattern Recognition (PR) he has pioneered the theory and applications of the so-called Anti-Bayesian paradigm of PR. Together with his co-authors. he also introduced the science and art of Chaotic PR. His work in using Dependence Trees to achieve PR is also well recorded. In the area of Syntactic PR. his award-winning algorithm has attained the optimal and information theoretic bound. and this earned him his elevation to be a Fellow of the IAPR. Within the field of Neural Networks (NNs). he has worked extensively with the Kohonen’s NN. and has demonstrated how one can merge the structure of the NN and its topology. Besides these. he has also worked in the general fields of AI. intelligent game playing. and LA-based data compression.']\n",
      " ['Artificial Intelligence and Machine Learning']\n",
      " ['Algorithms. Computational Geometry. Data Structures. and GIS']\n",
      " ['Combinatorial Optimization. Integer and Logic Programming. Mathematical Programming Computation.']\n",
      " ['.']\n",
      " ['Dr. Zhao’s primary research interests mainly concern low-level platform security. including but not limited to hardware. firmware. hypervisor and OS. Specifically. he would like to find out the actual trustworthiness of underlying components that are assumed or have to be trusted. and based on the findings what can be done to eventually achieve trustworthy program execution. He is also interested in solutions to authentication. privacy preservation and data protection that make use of the low-level approaches.']\n",
      " ['Fluid Dynamics. Applied Partial Differential Equations. Numerical Analysis.']\n",
      " ['.']\n",
      " ['I am interested in interpretable machine learning. deep neural networks. and transfer learning. The goal is to create ML models with explainability in mind or to develop methods that can decipher existing black-box ML models. I am also interested in how ML models can learn to perform new tasks with a limited amount of labeled data; a capability that human is very good at.']\n",
      " ['Dr. Lanthier’s research interests focus on robotics. artificial life and computational geometryh He has worked with numerous students on research projects involving robotic simulation and coordination. robotic path planning and robotic sensing and design.']\n",
      " ['My primary research interest is in Surgical Data Science. I use machine learning for time series data to improve outcomes in surgery and surgical training. based on sensor information collected in the operating room or simulation environment. Due to the diversity in patients and the cost of adverse outcomes. I advocate for the incorporation of domain knowledge into machine learning for surgery. My work facilitates real-time decision support in the operating room. performance assessment and coaching. and increased surgical efficiency.']\n",
      " ['.']\n",
      " ['Database Systems. Intelligent Information Systems. Web Technologies']\n",
      " ['.']\n",
      " ['orcid.org/0000-0003-3531-4926']\n",
      " ['Computational Geometry. Geometric Networks. Graph Algorithms. Data Structures. Applications of Computational Geometry in Manufacturing']\n",
      " ['Mean Field Stochastic Control. Stochastic Algorithms in Multi-Agent Systemsh Wireless Networks']\n",
      " ['.']\n",
      " ['Wireless sensor networks. Internet of Things (IoT). cognitive radio networks. adaptive signal processing. reconfigurable networks. sensor integration. radio frequency identification (RFID) systems. Applications in smart homes. security. safety. healthcare. smart grid. renewable energies and green society. smart cities. intelligent transportation systems. environment monitoring. retail and logistics.']\n",
      " ['Stochastic Processes. Time Series Analysis. Limit Theorems. Estimation. Long memory. Forecasting. Dependence.']\n",
      " ['.']\n",
      " ['Display clutter. data overload. eye tracking metrics and methods for usability testing and adaptive interfaces. healthcare informatics. interruption management. perception and performance']\n",
      " ['.']\n",
      " ['High-Dimensional Statistical Inference. Nonparametric Estimation. Nonparametric Hypothesis Testing.']\n",
      " ['Algorithms. Communication Networks. Data Structures. Discrete Mathematics. Distributed Computing. Distributed and Real-time Systems. Evolutionary Computing. Graph Theory. Mobile Computing. Network Computing. Parallel and Distributed Computing. Robotics. Theory of Computing. and Wireless Communication']\n",
      " ['.']\n",
      " ['Empirical software engineering. code review. recommender systems. mining Stack Overflow and GitHub. machine learning. NLP. qualitative research (e.g.. survey. experiments. interviews). eye tracking. API summarization. etc.']\n",
      " ['Geometric Modeling. Processing. and Visualization Shape Analysis']\n",
      " ['Algorithms and combinatorics of Planar and Near-Planar Graphs. Graph Drawing. Computational Geometry']\n",
      " ['Categorical Data Analysis. Biostatistics. Sampling. Applied Statistics.']\n",
      " ['Representations of Algebraic and Metaplectic Groups. Langlands Program. Trace Formula Comparisons. Endoscopy.']\n",
      " ['Authentication and Identity Management. System Security. Software Security. Application and Web Security. Network Security. Smartphone Security. Usability and Security. Passwords. Public-Key Infrastructure. SSL/TLS.']\n",
      " ['Epidemiology. Environmental and Occupational Health. Longitudinal Studies. Case-control studies and record linkage.']\n",
      " ['Interactive networked systems: teleoperation. telerobotics and telehaptics with applications to telemedicine. Haptics with applications to medical simulations. Robotics. control and intelligent Systems. Context-aware smart networks. Wireless sensor networks']\n",
      " ['Design and Analysis of Algorithms and Data Structures. Applied Geometric Computing (applications to manufacturing. computer vision. pattern recognition). Discrete and Computational Geometry. Computer Vision. Data Structures. Discrete Mathematics. Graph Algorithms. Graph Theory. Image Processing. Pattern Recognition. Randomized Algorithms. Routing in Networks']\n",
      " ['My research interests and expertise are in Software Engineering. with a special interest in Crowdsourcing in Software Engineering (e.,g. Stack Overflow and npm). Empirical Software Engineering. Mining Software Repositories. and Software Ecosystems. In particular. I leverage historical project data and apply Data Mining. Machine Learning. and Statistical Analysis techniques in order to better understand what and how software practitioners use the crowd and build techniques to help them effectively take advantage of these crowd resources.']\n",
      " ['Digital signal processing and its applications in biomedical engineering and audio processing.']\n",
      " ['Machine-to-machine communications. Internet-of-Things. Analysis and design of MIMO wireless communication systems. Applications of convex optimization and differential geometry in signal processing and communications. Information-theoretic aspects of multiuser communication systems. Cooperative communications. Number-theoretic applications in communications. Fairness and cross-layered designs Distributed antenna systems. Applications of iterative detection and decoding techniques in multiple antenna and multiuser system']\n",
      " ['Multimodal signal processing and audio-video signal processing. Biomedical and biometric applications of digital signal processing. Image and speech signal processing. Fractal and multifractal complexity measures: Rényi dimension measures']\n",
      " ['Human Computer Interaction. Computer Security. Computer Games. Agile Software Development']\n",
      " ['Genetic Algorithms. Computing Education']\n",
      " ['.']\n",
      " ['Broadband Wireless Access. Wireless Applications in Transportation Management and Safety. Wireless LAN’s and Ad-Hoc networking. Wireless Sensor Networks. Integrated Fiber/Wireless local loo']\n",
      " ['Number Theory.']\n",
      " ['.']\n",
      " ['Nonlinear Differential Equations.']\n",
      " ['Software Requirements Engineering; Model Driven Approach & Aspect Oriented Design; Cloud Resource Provisioning and Management; Software Deployment in the Cloud and Multi-tenancy; Big Data Analytics: Software Repository. Multi-media. and Networks Radio Traffic Data.']\n",
      " ['Sanjeena’s current research focuses on clustering and classification of high dimensional data with applications in bioinformatics. Her key areas of research are: Computational Statistics. Biostatistics. Bioinformatics. Machine Learning. High dimensional data. Mixture Models. and Variational Approximations.']\n",
      " ['Biostatistics. Longitudinal Data Analysis. Missing Data Analysis. Mixed Models and Robust Inference. Share: Twitter. Facebook Short URL: https://carleton.ca/math/?p=1292']\n",
      " ['.']\n",
      " ['Current. Parallel and Distributed Systems.. Performance Modelling and Performance Evaluation of Computer Systems.. Operating Systems.. Middleware. Resource Management on Clouds and Grids. Resource Management on Wireless Sensor Networks. Web Services and Service Oriented Architecture. Recent Past. High Performance CORBA-based Middleware Systems.. Management of multiple processes and parallel I/O.. Scalable Web Servers.']\n",
      " ['Data Mining. Applied Statistics.']\n",
      " ['Empirical Likelihood. Asymptotic Theory. Density Ratio Model. Spatio-temporal Modeling. Non- and Semi-parametric Inference. Statistical Computing']\n",
      " ['Usable security and privacy for children. user authentication. usable security for mobile devices. improving mental models of security. visualizations of computer security. persuasive games to improve security behaviour of end-users. phishing and trust of web interfaces. collaborative security code reviews']\n",
      " ['sensors and sensor systems (biomedical. defence and security applications). compressive sensing. signal processing (including biomedical signal processing. statistical signal processing. adaptive signal processing). machine learning. pattern classification.']\n",
      " ['Finite Fields and Applications in Cryptography and Coding Theory. Combinatorics. Algebra and Number Theory.']\n",
      " ['Internet of Things (Smart Grid/Smart City). Mobile computing systems and the mobile Internet. Mobile ad-hoc networks. Wireless sensor networks. Tactical radio networks. Adaptive mobile applications. Software-defined networking. Network function virtualization']\n",
      " ['Utkarsh is a statistician and data scientist who works in health outcomes and precision medicine. clinical trials. biomarkers. and statistical learning. Utkarsh’s work in health outcomes is on biomarkers and understanding phenotypic and treatment response variability. His work in clustering involves developing novel mixture models with applications in model-based clustering and classification while his work in phylogenetics involves developing novel algorithms with applications in bioinformatics.']\n",
      " ['Queueing Theory. Stochastic Processes. Games of Chance.']\n",
      " ['Animation Systems. Interactive 3D Games. Object-Oriented Systems. Parsers. and Computer Graphics']\n",
      " ['Probability Measures on Topological Groups. and Related Problems in Functional and Harmonic Analysis. Ergodic Theory. and the Theory of Topological Groups.']\n",
      " [': Applied Probability. Queueing Theory and Queueing Networks. Stochastic Modelling and Performance Analysis for Wireless and Computer Networks. Credit Risk Modelling. Derivative Markets and Pricing.']\n",
      " ['Machine Learning. Artificial Intelligence. Natural Language Processing. Computer Vision. Bioinformatics. Data Analysis']\n",
      " ['Representation theory of infinite-dimensional Lie algebras. Vertex algebras. Applications to soliton non-linear PDEs.']\n",
      " ['Include but are not limited to: Quantitative Risk Management. Actuarial science. Decision Theory. Mathematical Finance. Operations Research and FinTech/InsurTech.']\n",
      " ['Sensors development and applications. Biomedical monitoring/diagnosis/characterization. Ultrasonic imaging and acoustic microscope,']\n",
      " ['object-oriented systems. high-dependability systems. systems designed with the Unified Modeling Language (UML). object-oriented systems. systems designed with the Unified Modeling Language (UML). high-dependability systems. Model driven development and object-oriented analysis/design with the Unified Modeling Language (UML). Software quality assurance and control based on quantitative methods and measurement. experimental software engineering. Applications of artificial intelligence and evolutionary computing to software engineering. object-oriented systems. systems designed with the Unified Modeling Language (UML). high-dependability systems']]\n"
     ]
    }
   ],
   "source": [
    "import pandas as pd\n",
    "import numpy as np \n",
    "import sklearn\n",
    "\n",
    "data = pd.read_csv('accData.csv')\n",
    "df = data.drop(['name'], axis=1)\n",
    "corpus = df.to_numpy()\n",
    "print(corpus)"
   ]
  },
  {
   "cell_type": "code",
   "execution_count": 21,
   "id": "0189b959-571a-45db-84b8-931c98684317",
   "metadata": {},
   "outputs": [],
   "source": [
    "# corpus_embeddings = model.encode(corpus)\n",
    "# query = \"machine learning\"\n",
    "# query_embedding = model.encode(query)\n",
    "query  = [['Represent the Wikipedia question for retrieving supporting documents: ','where is the food stored in a yam plant']]\n",
    "corpus = [\n",
    "['Partial Differential Equations.  Nonlinear Analysis and Optimal Mass Transportation.'], \n",
    "['Internet Measurements.  Computer Systems and Network Security.  SSL/TLS.  Secure DNS.  Authentication.  Secure BGP.  Secure Internet Geolocation.  Software Defined-Network Security.'], \n",
    "['Non-invasive sensor systems.  Biomedical signal processing.  Biomedical image processing.  Machine learning,Pattern classification,Accessibility'], \n",
    "[' '], \n",
    "['Question answering over knowledge graphs.  information integration in linked data.  open data integration.  incorporating non-expert users in data integration.  knowledge graph mining.  and fact checking using heterogeneous data.'], \n",
    "['Computational Social Choice.  Voting Theory.  Social Network Simulations.  Algorithmic Fairness.  Fair Allocation'], \n",
    "['Algorithms.  Algorithmic Game Theory.  Network and Graph Theory.'], \n",
    "['Algorithms.  Computational Geometry.  Visualization.'], \n",
    "['Digital and Wireless Communications.  Coding and Information Theory.  Signal Processing and Algorithms'], \n",
    "[' '], \n",
    "['Medical Image Processing.  Applications for Monitoring lung and heart activity.  Image reconstruction models to account for errors.  Applications for Monitoring lung and heart activity.  Image reconstruction models to account for errors.  Monitoring lung function in mice.  Modelling of Airways physiology.  Monitoring lung function in mice.  Modelling of Airways physiology.  Face Recognition systems.  Issues in Biometric Application Design and Integration.  Security Implications of biometrics.  Face Recognition systems.  Issues in Biometric Application Design and Integration.  Security Implications of biometrics.  Applications for Monitoring lung and heart activity.  Image reconstruction models to account for errors.  Monitoring lung function in mice.  Modelling of Airways physiology.  Face Recognition systems.  Issues in Biometric Application Design and Integration.  Security Implications of biometrics'], \n",
    "['Celestial Mechanics.  Spectral Theory of Differential Operators.  Fuzzy Cellular Automata.  Irrationality Questions in Number Theory.'], \n",
    "['Design.  Analysis and Implementation of Algorithms for Problems arising in Computational Geometry.  Graph Theory.  Discrete Mathematics.  and Data Science.'], \n",
    "['Computer Security.  Operating Systems.  Intrusion Detection.  Complex Adaptive Systems.  Artificial Life'], \n",
    "['Number Theory and Analysis.'], \n",
    "['Agent-based systems. Network computing. Applications of artificial intelligence. Object-oriented design and languages. Network management and supervision.'], \n",
    "['Probability Theory and Mathematical Statistics, Strong and Weak Approximations of Stochastic Processes, Weighted Metrics, LimitTheorems,  Change-point Analysis, Nonparametric Methods.'], \n",
    "[' '], \n",
    "['Design Theory.  Gray Codes.  De Bruijn Sequences and Universal Cycles.  Combinatorial Game Theory.  Graph Theory.  Mathematical Biology.  Philosophy of Mathematics.'], \n",
    "[' '], \n",
    "['Stochastic Control in Computer Networks.  Modelling and Simulation Techniques.  Resource Optimization in Wireless Networks.  Reliability Mechanisms for Optical Networks.  Network Protocol Design and Implementation Issues'], \n",
    "[' '], \n",
    "[':'], \n",
    "['After working in the high tech industry for nearly 10 years as a software developer and team leader.  Dr. Laurendeau returned to academia in 2005 to pursue a doctorate in Computer Science at Carleton University. She completed her Ph.D. in 2009.  and in the same year joined the School of Computer Science as a tenure-track Instructor (teaching professor). She served as Associate Director (Undergraduate) from 2011 to 2014.  then as the School’s Co-op Faculty Advisor from 2014 to 2018.  She is currently the Associate Director (Recruitment and Outreach) for the School of Computer Science.  Dr. Laurendeau specializes in teaching first and second year computer programming courses.  with a focus on software engineering.'], \n",
    "['Software Engineering: Software Architecture.  Service-Oriented Computing.  Generative Programming.  Self-Managing Systems.  Software Reengineering. Networks: Software Defined Networking (SDN).  Traffic Engineering.  Quality of Service.  Content-Based Routing.  Wireless Communications.  Ad-Hoc Networks.  Sensor Networks.  and Network-Based Control Systems. Cloud Computing and Distributed Computing: Internet of Things (IoT).  Big Data Analytics.  Resource Management.  Web Services.  Real-time Concurrent Software.'], \n",
    "['Noncommutative Algebra.  Algebraic Geometry'], \n",
    "[' '], \n",
    "['Organizational Resilience.  Discrete-Event Modeling and Simulation.  Agent-Based Modeling.  Network Theory'], \n",
    "['Finite Fields and Their Applications; Combinatorics; Analysis of Algorithms.'], \n",
    "[' '], \n",
    "['Nonlinear Partial Differential Equations.  Wave Phenomena.  Pattern Formation.  Fluid Mechanics.  Nonlinear Optics.  Mathematical Biology.  Mathematical Modelling.  Numerical Analysis.'], \n",
    "[' '], \n",
    "[' '], \n",
    "['Computer and Network Security.  Internet of Things Security.  Operating Systems Security.'], \n",
    "['Non-Photorealistic Rendering.  Image Stylization.  Texture Synthesis.  Procedural Modeling.  Nonlinear Storytelling'], \n",
    "[' '], \n",
    "['Algorithms.  Computational Geometry.  Computer Graphics.  Computer Vision.  Data Structures.  Distributed Computing.  GIS.  Geographic Information Systems.  Medical Computing.  Parallel Computing.  Parallel and Distributed Computing.  Robotics and Machine Vision.  and Robotics'], \n",
    "['Automated Reasoning.  Formal Methods in Software Engineering.  Programming Languages.  and Software Engineering'], \n",
    "['Human-Computer Interaction.  Game Design.  Development.  & Interactions.  Wearables.  Virtual & Augmented Reality.  Animation.  Virtual Environments.  and Simulation.  Educational Technologies'], \n",
    "['Network Technology.  Data Science.  Computer Networks (Planning.  Design.  Architecture).  Cloud.  Fog.  and Edge Computing.  Internet of Things (IoT).  Software Defined Networks (SDN).  Network security (Threat modelling.  blockchain.  usable security).  Big Data Analytics.  Machine Learning & Artificial Intelligence.  Connected/Autonomous Vehicles'], \n",
    "['Human-Computer Interaction. Game Design.  Development.  & Interactions. Wearables'], \n",
    "['Human-Computer Interaction. Game Design.  Development.  & Interactions. Virtual & Augmented Reality. Animation.  Virtual Environments.  and Simulation. Video/Image Processing and Compression. Medical Imaging and Applications. Multimedia Streaming. Machine Learning & Artificial Intelligence. Connected/Autonomous Vehicles'], \n",
    "[' '], \n",
    "['Data Science.  Human-Computer Interaction.  Game Design.  Development.  & Interactions.  Animation.  Virtual Environments.  and Simulation.  Interactive Storytelling.  Machine Learning & Artificial Intelligence'], \n",
    "['Network Technology. Data Science. Multimedia Streaming. Computer Networks (Planning.  Design.  Architecture). Cloud.  Fog.  and Edge Computing. Internet of Things (IoT). Software Defined Networks (SDN). Ad-hoc and Wireless Sensor Networks. Network security (Threat modelling.  blockchain.  usable security). Data Privacy. Data Modelling. Machine Learning & Artificial Intelligence. Connected/Autonomous Vehicles'], \n",
    "['Network Technology.  Virtual & Augmented Reality.  Computer Networks (Planning.  Design.  Architecture).  Cloud.  Fog.  and Edge Computing.  Internet of Things (IoT).  Software Defined Networks (SDN).  Ad-hoc and Wireless Sensor Networks.  Machine Learning & Artificial Intelligence.  Connected/Autonomous Vehicles'], \n",
    "['Digital Sound and Audio.  Virtual & Augmented Reality.  Computer Networks (Planning.  Design.  Architecture).  Internet of Things (IoT)'], \n",
    "[' '], \n",
    "['Network Technology.  Computer Networks (Planning.  Design.  Architecture).  Cloud.  Fog.  and Edge Computing.  Internet of Things (IoT).  Software Defined Networks (SDN).  Ad-hoc and Wireless Sensor Networks'], \n",
    "['Data Science.  Video/Image Processing and Compression.  Internet of Things (IoT).  Ad-hoc and Wireless Sensor Networks.  Data Privacy.  Machine Learning & Artificial Intelligence.  Connected/Autonomous Vehicles'], \n",
    "['Cloud.  Fog.  and Edge Computing.  Internet of Things (IoT).  Ad-hoc and Wireless Sensor Networks.  Network security (Threat modelling.  blockchain.  usable security).  Data Privacy.  Data Modelling'], \n",
    "[' '], \n",
    "['Data Science.  Cloud.  Fog.  and Edge Computing.  Internet of Things (IoT).  Big Data Analytics.  Data Modelling.  Machine Learning & Artificial Intelligence'], \n",
    "['Human-Computer Interaction.  Game Design.  Development.  & Interactions.  Virtual & Augmented Reality'], \n",
    "['Network Technology.  Data Science.  Computer Networks (Planning.  Design.  Architecture).  Cloud.  Fog.  and Edge Computing.  Internet of Things (IoT).  Ad-hoc and Wireless Sensor Networks.  Network security (Threat modelling.  blockchain.  usable security).  Data Privacy.  Big Data Analytics'], \n",
    "['Eclipse.  Beacon Technology.  Health informatics and Systems'], \n",
    "['Optimization and Optimal Control.  Nonlinear Systems with State-Control Constraints.  Feedback Control for Nonlinear Systems.   Share: Twitter.  Facebook  Short URL: https://carleton.ca/math/?p=1273'], \n",
    "['Dr. Stobert’s research interests are in usable security systems.  applying research from cognitive science to improve the design of security systems. She is interested in usable authentication.  usable security for healthcare.  and security education.'], \n",
    "['Partial Differential Equations.  Numerical Analysis.  Mathematical Modeling.'], \n",
    "['Analysis of Algorithms and advances in Distributed and Computational Biology.  Distributed and Mobile Agent Computing.  Networks (Ad Hoc.  Communication.  Sensor.  Social.  Wireless). and Cryptographic and Network Security'], \n",
    "['Information visualization.  Human-computer interaction.  Health data visualization.  Shared display interactions'], \n",
    "['Data science.  high performance computing.  parallel computing.  computational biochemistry.  online analytical processing'], \n",
    "['– DEVS formalism – Real-Time modelling – Cellular models – Modelling and simulation methodologies and tools – Parallel/distributed/Web-based simulation – Real-Time operating systems. One funded PhD position is available in the area of Modeling and Simulation. Masters positions are available for Domestic students. Check our collaboration projects with Ericsson Canada. Channel Reconstruction for LTE/NR Performance Verification for Research and Leadership in Wireless Networks Spectrum Sharing with Machine Learning M-MIMO Channel Estimation using Distributed Machine Learning and Edge Computing Technologies Ericsson-Carleton Partnership'], \n",
    "['Stochastic Processes and Applications.  Approximations and Control of Large Scale Service Systems.  Queueing Networks.  Financial Engineering.'], \n",
    "['Performance modelling of distributed software.  based on an extension of queueing models called “layered queueing networks.  Performance modelling techniques and algorithms (simulation.  queueing and Petri Nets).  and applications to computer system.  Reverse Engineerin.  Operating System design and implementation.'], \n",
    "['Human-centric research.  User-centric cybersecurity and privacy.  Human-centric software security.  Security and privacy in emerging technologies'], \n",
    "['My interests span the physical.  medium access.  and networking layers.  and the cross-layer aspects of Wireless Communications.  including: Cellular networks (5G.  4G.  LTE/LTE-A).  Radio access networks.  Relay/multihop/mesh networks.  Cooperative communications.  Radio resource management.  Distributed antenna systems.  radio-over-fibre.  micro/pico/femto-cells.  Antenna architectures.  macro/microdiversity.  MIMO.  Multiple access.  OFDMA.  MAC.  Routing.  scheduling.  Sensor networks.  Cognitive radio.  spectrum.  opportunistic spectrum access.  Interference modeling.  User-in-the-loop in wireless networks.  Intelligent transportation systems'], \n",
    "['Adaptive and Learning Systems. Multi Robot Learning and Adaptation. Cooperative Control of Multiple Autonomous Robots. Control of robot manipulators. Adaptive Control. System Identification.'], \n",
    "['General area of interest: Wireless digital communications (stationary and mobile).  Noncoherent receiver design.  Error control coding (convolutional and turbo codes).  Applications of iterative decoding'], \n",
    "['Geometric Group Theory.'], \n",
    "['Applied Stochastic Processes and Control.  Performance Analysis of IP Networks.  Cross Layer design for Wireless Networks.  Wireless Ad-hoc networks.  Network Security'], \n",
    "['My research focus has been in the following areas: Bioinformatics.  proteomics.  and prediction of protein structure.  function.  interaction.  and post-translational modificatio. Machine intelligence.  pattern classification.  data minin. Development of novel assistive technology and device. I also have interest in: medical informatics.  robotics.  machine vision.  and microprocessor application. Current projects include. Species-specific prediction of microRNA from genomic sequence or transcriptomics dat. Prediction of protein-protein interactions from sequenc. Development of various novel assistive devices for persons who are disabled and the elderl. Hardware acceleration of bioinformatics algorithms using GPGPU.  including real-time mass spectrometr. Identification of post-translational modifications in proteins.  including sumoylation.  glycosylation.  and hydroxylation.'], \n",
    "['Combinatorial Enumerations.  Graph Theory.  and Mathematics of Gambling and Gaming.'], \n",
    "['Harmonic analysis on locally compact quantum groups Operator modules and homology Quantum information theory'], \n",
    "[' '], \n",
    "[' '], \n",
    "['Functional Data Analysis.  Longitudinal Data Analysis.  Mixture Models.  Computational Statistics/Numerical Analysis.'], \n",
    "['For Object-Oriented Testing: scenario testing and test data generation. For Text Understanding: contextualized and generative comprehension'], \n",
    "['Web Development.  Distributed Systems.  Internet of things.  Performance Evaluation.  Resources Sharing.  Routing optimization'], \n",
    "['Dr. Oommen has done research in the general areas of Artificial Intelligence for more than 40 years. In the fields of Stochastic Learning and Learning Automata (LA).  he has pioneered the field of Discretized LA. Some of the fastest and most accurate LA are due to the work done by him and his co-authors. Research in these fields earned him his elevation to be a Fellow of the IEEE. In the area of Statistical Pattern Recognition (PR) he has pioneered the theory and applications of the so-called Anti-Bayesian paradigm of PR. Together with his co-authors.  he also introduced the science and art of Chaotic PR. His work in using Dependence Trees to achieve PR is also well recorded. In the area of Syntactic PR.  his award-winning algorithm has attained the optimal and information theoretic bound.  and this earned him his elevation to be a Fellow of the IAPR. Within the field of Neural Networks (NNs).  he has worked extensively with the Kohonen’s NN.  and has demonstrated how one can merge the structure of the NN and its topology. Besides these.  he has also worked in the general fields of AI.  intelligent game playing.  and LA-based data compression.'], \n",
    "['Artificial Intelligence and Machine Learning'], \n",
    "['Algorithms.  Computational Geometry.  Data Structures.  and GIS'], \n",
    "['Combinatorial Optimization.  Integer and Logic Programming.  Mathematical Programming Computation.'], \n",
    "[' '], \n",
    "['Dr. Zhao’s primary research interests mainly concern low-level platform security.  including but not limited to hardware.  firmware.  hypervisor and OS. Specifically.  he would like to find out the actual trustworthiness of underlying components that are assumed or have to be trusted.  and based on the findings what can be done to eventually achieve trustworthy program execution. He is also interested in solutions to authentication.  privacy preservation and data protection that make use of the low-level approaches.'], \n",
    "['Fluid Dynamics.  Applied Partial Differential Equations.  Numerical Analysis.'], \n",
    "[' '], \n",
    "['I am interested in interpretable machine learning.  deep neural networks.  and transfer learning. The goal is to create ML models with explainability in mind or to develop methods that can decipher existing black-box ML models. I am also interested in how ML models can learn to perform new tasks with a limited amount of labeled data; a capability that human is very good at.'], \n",
    "['Dr. Lanthier’s research interests focus on robotics.  artificial life and computational geometry.  He has worked with numerous students on research projects involving robotic simulation and coordination.  robotic path planning and robotic sensing and design.'], \n",
    "['My primary research interest is in Surgical Data Science. I use machine learning for time series data to improve outcomes in surgery and surgical training.  based on sensor information collected in the operating room or simulation environment. Due to the diversity in patients and the cost of adverse outcomes.  I advocate for the incorporation of domain knowledge into machine learning for surgery. My work facilitates real-time decision support in the operating room.  performance assessment and coaching.  and increased surgical efficiency.'], \n",
    "[' '], \n",
    "['Database Systems.  Intelligent Information Systems.  Web Technologies'], \n",
    "[' '], \n",
    "['orcid.org/0000-0003-3531-4926'], \n",
    "['Computational Geometry.  Geometric Networks.  Graph Algorithms.  Data Structures.  Applications of Computational Geometry in Manufacturing'], \n",
    "['Mean Field Stochastic Control.  Stochastic Algorithms in Multi-Agent Systems, Wireless Networks'], \n",
    "[' '], \n",
    "['Wireless sensor networks.  Internet of Things (IoT).  cognitive radio networks.  adaptive signal processing.  reconfigurable networks.  sensor integration.  radio frequency identification (RFID) systems. Applications in smart homes.  security.  safety.  healthcare.  smart grid.  renewable energies and green society.  smart cities.  intelligent transportation systems.  environment monitoring.  retail and logistics.'], \n",
    "['Stochastic Processes.  Time Series Analysis.  Limit Theorems.  Estimation.  Long memory.  Forecasting.  Dependence.'], \n",
    "[' '], \n",
    "['Display clutter.  data overload.  eye tracking metrics and methods for usability testing and adaptive interfaces.  healthcare informatics.  interruption management.  perception and performance'], \n",
    "[' '], \n",
    "['High-Dimensional Statistical Inference.  Nonparametric Estimation.  Nonparametric Hypothesis Testing.'], \n",
    "['Algorithms.  Communication Networks.  Data Structures.  Discrete Mathematics.  Distributed Computing.  Distributed and Real-time Systems.  Evolutionary Computing.  Graph Theory.  Mobile Computing.  Network Computing.  Parallel and Distributed Computing.  Robotics.  Theory of Computing.  and Wireless Communication'], \n",
    "[' '], \n",
    "['Empirical software engineering.  code review.  recommender systems.  mining Stack Overflow and GitHub.  machine learning.  NLP.  qualitative research (e.g..  survey.  experiments.  interviews).  eye tracking.  API summarization.  etc.'], \n",
    "['Geometric Modeling.  Processing.  and Visualization Shape Analysis'], \n",
    "['Algorithms and combinatorics of Planar and Near-Planar Graphs.  Graph Drawing.  Computational Geometry'], \n",
    "['Categorical Data Analysis.  Biostatistics.  Sampling.  Applied Statistics.'], \n",
    "['Representations of Algebraic and Metaplectic Groups.  Langlands Program.  Trace Formula Comparisons.  Endoscopy.'], \n",
    "['Authentication and Identity Management.  System Security.  Software Security.  Application and Web Security.  Network Security.  Smartphone Security.  Usability and Security.  Passwords.  Public-Key Infrastructure.  SSL/TLS.'], \n",
    "['Epidemiology.  Environmental and Occupational Health.  Longitudinal Studies.  Case-control studies and record linkage.'], \n",
    "['Interactive networked systems: teleoperation.  telerobotics and telehaptics with applications to telemedicine.  Haptics with applications to medical simulations.  Robotics.  control and intelligent Systems.  Context-aware smart networks.  Wireless sensor networks'], \n",
    "['Design and Analysis of Algorithms and Data Structures.  Applied Geometric Computing (applications to manufacturing.  computer vision.  pattern recognition).  Discrete and Computational Geometry.  Computer Vision.  Data Structures.  Discrete Mathematics.  Graph Algorithms.  Graph Theory.  Image Processing.  Pattern Recognition.  Randomized Algorithms.  Routing in Networks'], \n",
    "['My research interests and expertise are in Software Engineering.  with a special interest in Crowdsourcing in Software Engineering (e.,g. Stack Overflow and npm).  Empirical Software Engineering.  Mining Software Repositories.  and Software Ecosystems. In particular.  I leverage historical project data and apply Data Mining.  Machine Learning.  and Statistical Analysis techniques in order to better understand what and how software practitioners use the crowd and build techniques to help them effectively take advantage of these crowd resources.'], \n",
    "['Digital signal processing and its applications in biomedical engineering and audio processing.'], \n",
    "['Machine-to-machine communications.  Internet-of-Things.  Analysis and design of MIMO wireless communication systems.  Applications of convex optimization and differential geometry in signal processing and communications.  Information-theoretic aspects of multiuser communication systems.  Cooperative communications.  Number-theoretic applications in communications.  Fairness and cross-layered designs Distributed antenna systems.  Applications of iterative detection and decoding techniques in multiple antenna and multiuser system'], \n",
    "['Multimodal signal processing and audio-video signal processing.  Biomedical and biometric applications of digital signal processing.  Image and speech signal processing.  Fractal and multifractal complexity measures: Rényi dimension measures'], \n",
    "['Human Computer Interaction.  Computer Security.  Computer Games.  Agile Software Development'], \n",
    "['Genetic Algorithms.  Computing Education'], \n",
    "[' '], \n",
    "['Broadband Wireless Access.  Wireless Applications in Transportation Management and Safety.  Wireless LAN’s and Ad-Hoc networking.  Wireless Sensor Networks.  Integrated Fiber/Wireless local loo'], \n",
    "['Number Theory.'], \n",
    "[' '], \n",
    "['Nonlinear Differential Equations.'], \n",
    "['Software Requirements Engineering; Model Driven Approach & Aspect Oriented Design; Cloud Resource Provisioning and Management; Software Deployment in the Cloud and Multi-tenancy; Big Data Analytics: Software Repository.  Multi-media.  and Networks Radio Traffic Data.'], \n",
    "['Sanjeena’s current research focuses on clustering and classification of high dimensional data with applications in bioinformatics. Her key areas of research are: Computational Statistics.  Biostatistics.  Bioinformatics.  Machine Learning.  High dimensional data.  Mixture Models.  and Variational Approximations.'], \n",
    "['Biostatistics.  Longitudinal Data Analysis.  Missing Data Analysis.  Mixed Models and Robust Inference.  Share: Twitter.  Facebook  Short URL: https://carleton.ca/math/?p=1292'], \n",
    "[' '], \n",
    "['Current.  Parallel and Distributed Systems..  Performance Modelling and Performance Evaluation of Computer Systems..  Operating Systems..  Middleware.  Resource Management on Clouds and Grids.  Resource Management on Wireless Sensor Networks.  Web Services and Service Oriented Architecture.  Recent Past.  High Performance CORBA-based Middleware Systems..  Management of multiple processes and parallel I/O..  Scalable Web Servers.'], \n",
    "['Data Mining.  Applied Statistics.'], \n",
    "['Empirical Likelihood.  Asymptotic Theory.  Density Ratio Model.  Spatio-temporal Modeling.  Non- and Semi-parametric Inference.  Statistical Computing'], \n",
    "['Usable security and privacy for children.  user authentication.  usable security for mobile devices.  improving mental models of security.  visualizations of computer security.  persuasive games to improve security behaviour of end-users.  phishing and trust of web interfaces.  collaborative security code reviews'], \n",
    "['sensors and sensor systems (biomedical.  defence and security applications).  compressive sensing.  signal processing (including biomedical signal processing.  statistical signal processing.  adaptive signal processing).  machine learning.  pattern classification.'], \n",
    "['Finite Fields and Applications in Cryptography and Coding Theory.  Combinatorics.  Algebra and Number Theory.'], \n",
    "['Internet of Things (Smart Grid/Smart City).  Mobile computing systems and the mobile Internet.  Mobile ad-hoc networks.  Wireless sensor networks.  Tactical radio networks.  Adaptive mobile applications.  Software-defined networking.  Network function virtualization'], \n",
    "['Utkarsh is a statistician and data scientist who works in health outcomes and precision medicine.  clinical trials.  biomarkers.  and statistical learning. Utkarsh’s work in health outcomes is on biomarkers and understanding phenotypic and treatment response variability. His work in clustering involves developing novel mixture models with applications in model-based clustering and classification while his work in phylogenetics involves developing novel algorithms with applications in bioinformatics.'], \n",
    "['Queueing Theory.  Stochastic Processes.  Games of Chance.'], \n",
    "['Animation Systems.  Interactive 3D Games.  Object-Oriented Systems.  Parsers.  and Computer Graphics'], \n",
    "['Probability Measures on Topological Groups.  and Related Problems in Functional and Harmonic Analysis.  Ergodic Theory.  and the Theory of Topological Groups.'], \n",
    "[': Applied Probability.  Queueing Theory and Queueing Networks.  Stochastic Modelling and Performance Analysis for Wireless and Computer Networks.  Credit Risk Modelling.  Derivative Markets and Pricing.'], \n",
    "['Machine Learning.  Artificial Intelligence.  Natural Language Processing.  Computer Vision.  Bioinformatics.  Data Analysis'], \n",
    "['Representation theory of infinite-dimensional Lie algebras.  Vertex algebras.  Applications to soliton non-linear PDEs.'], \n",
    "['Include but are not limited to: Quantitative Risk Management.  Actuarial science.  Decision Theory.  Mathematical Finance.  Operations Research and FinTech/InsurTech.'], \n",
    "['Sensors development and applications.  Biomedical monitoring/diagnosis/characterization.  Ultrasonic imaging and acoustic microscope,'], \n",
    "['object-oriented systems.  high-dependability systems.  systems designed with the Unified Modeling Language (UML).  object-oriented systems.  systems designed with the Unified Modeling Language (UML).  high-dependability systems.  Model driven development and object-oriented analysis/design with the Unified Modeling Language (UML).  Software quality assurance and control based on quantitative methods and measurement.  experimental software engineering.  Applications of artificial intelligence and evolutionary computing to software engineering.  object-oriented systems.  systems designed with the Unified Modeling Language (UML).  high-dependability systems']\n",
    "]\n",
    "query_embeddings = model.encode(query)\n",
    "corpus_embeddings = model.encode(corpus)"
   ]
  },
  {
   "cell_type": "code",
   "execution_count": 23,
   "id": "fa60d1ff-391e-4028-a1c4-4001233786aa",
   "metadata": {},
   "outputs": [
    {
     "name": "stdout",
     "output_type": "stream",
     "text": [
      "2\n"
     ]
    }
   ],
   "source": [
    "import numpy as np\n",
    "from sklearn.metrics.pairwise import cosine_similarity\n",
    "similarities = cosine_similarity(query_embeddings,corpus_embeddings)\n",
    "retrieved_doc_id = np.argmax(similarities)\n",
    "print(retrieved_doc_id)"
   ]
  },
  {
   "cell_type": "code",
   "execution_count": null,
   "id": "c5c379db-0213-45b1-9f6b-fc3e756ffd55",
   "metadata": {},
   "outputs": [],
   "source": []
  }
 ],
 "metadata": {
  "kernelspec": {
   "display_name": "Python 3",
   "language": "python",
   "name": "python3"
  },
  "language_info": {
   "codemirror_mode": {
    "name": "ipython",
    "version": 3
   },
   "file_extension": ".py",
   "mimetype": "text/x-python",
   "name": "python",
   "nbconvert_exporter": "python",
   "pygments_lexer": "ipython3",
   "version": "3.8.8"
  }
 },
 "nbformat": 4,
 "nbformat_minor": 5
}
